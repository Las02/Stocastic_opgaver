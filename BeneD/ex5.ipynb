{
 "cells": [
  {
   "cell_type": "markdown",
   "metadata": {},
   "source": [
    "1. Estimate the integral by simulation (the crude Monte Carlo\n",
    "estimator). Use eg. an estimator based on 100 samples and present the result as the point estimator and a confidence interval."
   ]
  },
  {
   "cell_type": "code",
   "execution_count": 17,
   "metadata": {},
   "outputs": [
    {
     "name": "stdout",
     "output_type": "stream",
     "text": [
      "(1.6848169014218772, [1.595313234476359, 1.7743205683673955])\n"
     ]
    }
   ],
   "source": [
    "import numpy as np\n",
    "import math\n",
    "import scipy.stats\n",
    "\n",
    "# Generate 100 U uniformly distributed in the interval [0,1]\n",
    "# Evaluate  exp(U) \n",
    "# Get crude monte carlo estimate\n",
    "\n",
    "def getMonteCarloEstimate(n):\n",
    "\n",
    "    evalf = list()  \n",
    "    for i in range(n):\n",
    "        U = np.random.uniform()\n",
    "        E = math.exp(U)\n",
    "        evalf.append(E)\n",
    "    \n",
    "    mc_estimate = sum(evalf)/n\n",
    "\n",
    "    t = scipy.stats.t.ppf(q=0.975,df= n-1)\n",
    "    s = np.std(evalf)\n",
    "    SE = s/math.sqrt(n)\n",
    "\n",
    "    CI = [mc_estimate - t*SE, mc_estimate + t*SE]\n",
    "\n",
    "\n",
    "    return mc_estimate,CI\n",
    "\n",
    "print(getMonteCarloEstimate(100))\n",
    "\n"
   ]
  },
  {
   "cell_type": "markdown",
   "metadata": {},
   "source": [
    "2. Estimate the integral using antithetic variables, with\n",
    "comparable computer ressources."
   ]
  },
  {
   "cell_type": "code",
   "execution_count": 20,
   "metadata": {},
   "outputs": [
    {
     "name": "stdout",
     "output_type": "stream",
     "text": [
      "(1.1980985861116868, [1.1256717292811724, 1.2705254429422013])\n"
     ]
    }
   ],
   "source": [
    "def AntitheticEstimator(n):\n",
    "\n",
    "    evalf = list()  \n",
    "    for i in range(n):\n",
    "        U = np.random.uniform()\n",
    "        U_antithetic = U - 1\n",
    "        Y = (math.exp(U)+math.exp(U_antithetic))/2\n",
    "        evalf.append(Y)\n",
    "\n",
    "    estimate = sum(evalf)/n\n",
    "\n",
    "    t = scipy.stats.t.ppf(q=0.975,df= n-1)\n",
    "    s = np.std(evalf)\n",
    "    SE = s/math.sqrt(n)\n",
    "\n",
    "    CI = [estimate - t*SE, estimate + t*SE]\n",
    "\n",
    "\n",
    "    return estimate, CI \n",
    "\n",
    "print(AntitheticEstimator(100))\n"
   ]
  },
  {
   "cell_type": "markdown",
   "metadata": {},
   "source": [
    "3. Estimate the integral using a control variable, with\n",
    "comparable computer ressources."
   ]
  },
  {
   "cell_type": "code",
   "execution_count": 28,
   "metadata": {},
   "outputs": [
    {
     "name": "stdout",
     "output_type": "stream",
     "text": [
      "(1.7181382080842782, [1.7181382080842782, 1.7181382080842782])\n"
     ]
    }
   ],
   "source": [
    "def controlVariableEstimator(n):\n",
    "\n",
    "    X = list()\n",
    "    Y = list()\n",
    "\n",
    "    for i in range(n):\n",
    "        U = np.random.uniform()\n",
    "        X.append(np.exp(U))\n",
    "        Y.append(U) # Use U as control variate (slide 11)\n",
    "    \n",
    "    mu_Y = 0.5 # expected value of the control variate\n",
    "    cov_XY = np.cov(X,Y)[0,1]\n",
    "    var_Y = np.var(Y)\n",
    "    c = (-cov_XY)/var_Y\n",
    "\n",
    "    #print(cov_XY)\n",
    "    #print(var_Y)\n",
    "\n",
    "    estimate = np.mean(X) + c*(np.mean(Y) - mu_Y)\n",
    "\n",
    "    t = scipy.stats.t.ppf(q=0.975,df= n-1)\n",
    "    s = np.std(estimate)\n",
    "    SE = s/math.sqrt(n)\n",
    "\n",
    "    CI = [estimate - t*SE, estimate + t*SE]\n",
    "\n",
    "\n",
    "    return estimate,CI\n",
    "\n",
    "print(controlVariableEstimator(100))"
   ]
  },
  {
   "cell_type": "markdown",
   "metadata": {},
   "source": [
    "4. Estimate the integral using stratified sampling, with\n",
    "comparable computer ressources."
   ]
  },
  {
   "cell_type": "code",
   "execution_count": 30,
   "metadata": {},
   "outputs": [
    {
     "name": "stdout",
     "output_type": "stream",
     "text": [
      "(1.717667312433734, [1.717667312433734, 1.717667312433734])\n"
     ]
    }
   ],
   "source": [
    "def stratifiedSampling(n):\n",
    "\n",
    "    E = list()\n",
    "    for i in range(n):\n",
    "        U = np.random.uniform()\n",
    "        E_i = math.exp((U/n)+(i/n))\n",
    "        E.append(E_i)\n",
    "\n",
    "    W = sum(E)/n\n",
    "\n",
    "    t = scipy.stats.t.ppf(q=0.975,df= n-1)\n",
    "    s = np.std(W)\n",
    "    SE = s/math.sqrt(n)\n",
    "\n",
    "    CI = [W - t*SE, W + t*SE]\n",
    "\n",
    "\n",
    "    return W, CI\n",
    "\n",
    "print(stratifiedSampling(100))"
   ]
  },
  {
   "cell_type": "markdown",
   "metadata": {},
   "source": [
    "Use control variates to reduce the variance of the estimator in exercise 4 (Poisson arrivals)."
   ]
  },
  {
   "cell_type": "code",
   "execution_count": null,
   "metadata": {},
   "outputs": [],
   "source": []
  }
 ],
 "metadata": {
  "kernelspec": {
   "display_name": "base",
   "language": "python",
   "name": "python3"
  },
  "language_info": {
   "codemirror_mode": {
    "name": "ipython",
    "version": 3
   },
   "file_extension": ".py",
   "mimetype": "text/x-python",
   "name": "python",
   "nbconvert_exporter": "python",
   "pygments_lexer": "ipython3",
   "version": "3.8.8"
  }
 },
 "nbformat": 4,
 "nbformat_minor": 2
}
