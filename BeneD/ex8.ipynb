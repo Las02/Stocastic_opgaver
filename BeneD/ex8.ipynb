{
 "cells": [
  {
   "cell_type": "code",
   "execution_count": 136,
   "metadata": {},
   "outputs": [],
   "source": [
    "#Import packages \n",
    "import numpy as np\n",
    "import statistics"
   ]
  },
  {
   "cell_type": "markdown",
   "metadata": {},
   "source": [
    "# EXERCISE 8 \n",
    "\n",
    "Let X1,..., Xn be independent and identically distributed random variables\n",
    "having unknown mean μ. For given constants a < b, we are interested in\n",
    "estimating p = P{a < n i=1 Xi/n − μ < b}.\n",
    "\n",
    "### (a) Explain how we can use the bootstrap approach to estimate p.\n",
    "\n",
    "It is possible to create a range of means from the one sample (Xi), which can be used to calculate the proportion of bootstrapped means substracted mu that fall within a and b. \n",
    "\n",
    "### (b) Estimate p if n = 10 and the values of the Xi are 56, 101, 78, 67, 93, 87, 64, 72, 80, and 69. Take a = −5, b = 5."
   ]
  },
  {
   "cell_type": "code",
   "execution_count": 132,
   "metadata": {},
   "outputs": [
    {
     "name": "stdout",
     "output_type": "stream",
     "text": [
      "Estimated p: 0.7683\n"
     ]
    }
   ],
   "source": [
    "a = -5\n",
    "b = 5 \n",
    "Xi = [56, 101, 78, 67, 93, 87, 64, 72, 80,69]\n",
    "original_sample_mean = np.mean(Xi)\n",
    "\n",
    "# Get bootstrap samples from data set Xi \n",
    "bootstrap_means = []\n",
    "n = 10000\n",
    "for i in range(n):\n",
    "    bootstrap_sample = np.random.choice(Xi, size = len(Xi), replace=True)\n",
    "    bootstrap_means.append(np.mean(bootstrap_sample))\n",
    "\n",
    "# Cakc the differences from the original mean\n",
    "differences = bootstrap_means - original_sample_mean\n",
    "#print(differences)\n",
    "\n",
    "# Calc differences that is within [a,b]\n",
    "dif_prop = []\n",
    "for dif in differences:\n",
    "    if dif >= a and dif <= b:\n",
    "        dif_prop.append(dif)\n",
    "\n",
    "estimated_prop = len(dif_prop)/len(differences) \n",
    "print(f\"Estimated p: {estimated_prop}\") # estimate p "
   ]
  },
  {
   "cell_type": "markdown",
   "metadata": {},
   "source": [
    "In the following three exercises X1,..., Xn is a sample from a distribution\n",
    "whose variance is (the unknown) σ2. We are planning to estimate σ2 by the\n",
    "sample variance S2 = ni=1(Xi−X)2/(n−1), and we want to use the bootstrap technique to estimate Var(S2).\n",
    "\n",
    "If n = 15 and the data are:\n",
    "5, 4, 9, 6, 21, 17, 11, 20, 7, 10, 21, 15, 13, 16, 8\n",
    "\n",
    "what is the bootstrap estimate of Var(S2)?"
   ]
  },
  {
   "cell_type": "code",
   "execution_count": 131,
   "metadata": {},
   "outputs": [
    {
     "name": "stdout",
     "output_type": "stream",
     "text": [
      "Variance from original sample: 34.31428571428572\n",
      "Estimated variance with bootstrapping: 34.23207571428577\n"
     ]
    }
   ],
   "source": [
    "n = 15 \n",
    "N = 10000\n",
    "data = [5, 4, 9, 6, 21, 17, 11, 20, 7, 10, 21, 15, 13, 16, 8]\n",
    "original_sample_mean = np.mean(data)\n",
    "\n",
    "bootstrap_means = []\n",
    "bootstrap_var = []\n",
    "\n",
    "for i in range(N):\n",
    "    bootstrap_sample = np.random.choice(data, size = len(data), replace=True)\n",
    "    s = [(xi-original_sample_mean)**2 for xi in bootstrap_sample]\n",
    "    s2 = sum(s)/(n-1)\n",
    "    bootstrap_var.append(s2) \n",
    "\n",
    "\n",
    "\n",
    "# Sanity check with imported functions\n",
    "\n",
    "print(f\"Variance from original sample: {statistics.variance(data)}\") # var from original sample\n",
    "print(f\"Estimated variance with bootstrapping: {sum(bootstrap_var)/N}\") # estimated var\n",
    "\n",
    "\n"
   ]
  },
  {
   "cell_type": "markdown",
   "metadata": {},
   "source": [
    "Write a subroutine that takes as input a “data” vector of\n",
    "observed values, and which outputs the median as well as the\n",
    "bootstrap estimate of the variance of the median, based on\n",
    "r = 100 bootstrap replicates. Simulate N = 200 Pareto\n",
    "distributed random variates with β = 1 and k = 1.05."
   ]
  },
  {
   "cell_type": "code",
   "execution_count": 134,
   "metadata": {},
   "outputs": [
    {
     "name": "stdout",
     "output_type": "stream",
     "text": [
      "Variance of sample: 3190.477354067407\n",
      "Estimated variance based on bootstrapping: 3158.18894731503\n",
      "\n",
      "Median of sample:1.1949425949887889\n",
      "Estimated median based on bootstrapping: 1.1854949791417722\n",
      "Compare the precision of the estimated median with the precision of the estimated mean\n",
      "The estimated median is more precise (closer to the actual median) compared to the estimated mean. This is probably due to the nature of mean and median, whereas the middle value (the median) will fluctuate less compared to the mean. The mean can skew the data with only one large datapoint, which will not affect the median.\n"
     ]
    }
   ],
   "source": [
    "\n",
    "r = 100 # bootstrap replicates\n",
    "N = 200 # number of Pareto distributed random variates with\n",
    "beta = 1\n",
    "k = 1.05\n",
    "\n",
    "# Compute the mean and the median (of the sample) \n",
    "sample = np.random.pareto(1, size = N) \n",
    "sample_mean = np.mean(sample)\n",
    "sample_median = np.median(sample)\n",
    "\n",
    "#print(sample_mean)\n",
    "#print(sample_median)\n",
    "\n",
    "# Make the bootstrap estimate of the variance of the sample mean\n",
    "number_of_bootstraps = 10000\n",
    "bootstrap_var = []\n",
    "bootstrap_medians = []\n",
    "\n",
    "for i in range(number_of_bootstraps):\n",
    "    bootstrap_sample = np.random.choice(sample, size = len(sample), replace=True)\n",
    "\n",
    "    # median \n",
    "    bootstrap_medians.append(np.median(bootstrap_sample))\n",
    "\n",
    "    # var\n",
    "    s = [(xi-sample_mean)**2 for xi in bootstrap_sample]\n",
    "    s2 = sum(s)/(N-1)\n",
    "    bootstrap_var.append(s2) \n",
    "\n",
    "\n",
    "estimate_var = sum(bootstrap_var)/number_of_bootstraps\n",
    "estimate_med = sum(bootstrap_medians)/number_of_bootstraps\n",
    "\n",
    "print(f\"Variance of sample: {np.var(sample)}\")\n",
    "print(f\"Estimated variance based on bootstrapping: {estimate_var}\")\n",
    "print(\"\")\n",
    "print(f\"Median of sample:{np.median(sample)}\")\n",
    "print(f\"Estimated median based on bootstrapping: {estimate_med}\")\n",
    "# Make the bootstrap estimate of the variance of the sample median\n",
    "\n",
    "# Compare the precision of the estimated median with the precision of the estimated mean \n",
    "print(\"Compare the precision of the estimated median with the precision of the estimated mean\")\n",
    "print(\"The estimated median is more precise (closer to the actual median) compared to the estimated mean. This is probably due to the nature of mean and median, whereas the middle value (the median) will fluctuate less compared to the mean. The mean can skew the data with only one large datapoint, which will not affect the median.\")\n"
   ]
  },
  {
   "cell_type": "code",
   "execution_count": null,
   "metadata": {},
   "outputs": [],
   "source": []
  },
  {
   "cell_type": "code",
   "execution_count": null,
   "metadata": {},
   "outputs": [],
   "source": []
  }
 ],
 "metadata": {
  "kernelspec": {
   "display_name": "base",
   "language": "python",
   "name": "python3"
  },
  "language_info": {
   "codemirror_mode": {
    "name": "ipython",
    "version": 3
   },
   "file_extension": ".py",
   "mimetype": "text/x-python",
   "name": "python",
   "nbconvert_exporter": "python",
   "pygments_lexer": "ipython3",
   "version": "3.8.8"
  }
 },
 "nbformat": 4,
 "nbformat_minor": 2
}
