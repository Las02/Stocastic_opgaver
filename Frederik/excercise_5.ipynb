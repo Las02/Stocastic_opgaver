{
 "cells": [
  {
   "cell_type": "code",
   "execution_count": 4,
   "metadata": {},
   "outputs": [],
   "source": [
    "import numpy as np\n",
    "import pandas as pd\n",
    "import scipy.stats as stats\n",
    "from icecream import ic\n",
    "from matplotlib import pyplot as plt\n",
    "import seaborn as sns\n",
    "from tqdm import tqdm\n",
    "import math"
   ]
  },
  {
   "cell_type": "markdown",
   "metadata": {},
   "source": [
    "# Exercise 5: Variance reduction methods"
   ]
  },
  {
   "cell_type": "markdown",
   "metadata": {},
   "source": [
    "### 1. Estimate the integral from 0 to 1 for exp(x) by simulation (the crude Monte Carlo estimator). Use eg. an estimator based on 100 samples and present the result as the point estimator and a confidence interval.\n"
   ]
  },
  {
   "cell_type": "code",
   "execution_count": 16,
   "metadata": {},
   "outputs": [
    {
     "name": "stderr",
     "output_type": "stream",
     "text": [
      "ic| estimated_integral: 1.6613132890946047\n",
      "ic| confidence_interval: (1.5622015156990832, 1.7604250624901263)\n"
     ]
    },
    {
     "data": {
      "text/plain": [
       "(1.5622015156990832, 1.7604250624901263)"
      ]
     },
     "execution_count": 16,
     "metadata": {},
     "output_type": "execute_result"
    }
   ],
   "source": [
    "# We simulate 100 uniformly distributed samples\n",
    "samples = np.exp(np.random.uniform(size = 100))\n",
    "\n",
    "# We take the mean of the samples to estimate the integral. \n",
    "estimated_integral = np.mean(samples)\n",
    "ic(estimated_integral)\n",
    "\n",
    "# We calculate the confidence intervals of the estimation.\n",
    "\n",
    "mean_blocked = np.mean(samples)\n",
    "std_blocked = np.std(samples)\n",
    "\n",
    "# Calculate the 95% confidence interval\n",
    "confidence_interval = stats.t.interval(0.95, len(samples)-1, loc=mean_blocked, scale=stats.sem(samples))\n",
    "ic(confidence_interval)"
   ]
  },
  {
   "cell_type": "markdown",
   "metadata": {},
   "source": [
    "### 2. Estimate the integral from 0 to 1 for exp(x) using antithetic variables, with comparable computer ressources."
   ]
  },
  {
   "cell_type": "code",
   "execution_count": 46,
   "metadata": {},
   "outputs": [
    {
     "data": {
      "text/plain": [
       "1.7201242639500804"
      ]
     },
     "execution_count": 46,
     "metadata": {},
     "output_type": "execute_result"
    }
   ],
   "source": [
    "samples = []\n",
    "for i in range(100):\n",
    "    U_i = np.random.uniform(low=0, high=1)\n",
    "    Y_i = (np.exp(U_i) + np.exp(1 - U_i)) / 2\n",
    "    samples.append(Y_i)\n",
    "\n",
    "np.mean(samples)"
   ]
  },
  {
   "cell_type": "code",
   "execution_count": 49,
   "metadata": {},
   "outputs": [
    {
     "name": "stderr",
     "output_type": "stream",
     "text": [
      "ic| confidence_interval: (1.7067554213582978, 1.733493106541863)\n"
     ]
    },
    {
     "data": {
      "text/plain": [
       "(1.7067554213582978, 1.733493106541863)"
      ]
     },
     "execution_count": 49,
     "metadata": {},
     "output_type": "execute_result"
    }
   ],
   "source": [
    "# We calculate the confidence intervals of the estimation.\n",
    "\n",
    "mean = np.mean(samples)\n",
    "std = np.std(samples)\n",
    "\n",
    "# Calculate the 95% confidence interval\n",
    "confidence_interval = stats.t.interval(0.95, len(samples)-1, loc=mean, scale=stats.sem(samples))\n",
    "ic(confidence_interval)"
   ]
  },
  {
   "cell_type": "markdown",
   "metadata": {},
   "source": [
    "### 3. Estimate the integral from 0 to 1 for exp(x) using a control variable, with comparable computer ressources."
   ]
  },
  {
   "cell_type": "code",
   "execution_count": 109,
   "metadata": {},
   "outputs": [
    {
     "name": "stdout",
     "output_type": "stream",
     "text": [
      "Control coefficient -1.6830352947229221\n",
      "Variance of X 0.2849160334336293\n",
      "Variance of Z 0.004696671478213356\n"
     ]
    }
   ],
   "source": [
    "# We can find minimal c\n",
    "\n",
    "# Generate uniform random samples\n",
    "U = np.random.uniform(size=100)\n",
    "\n",
    "# Calculate X_i = e^U_i\n",
    "X = np.exp(U)\n",
    "\n",
    "# Use U as the control variate\n",
    "Y = U\n",
    "\n",
    "\n",
    "cov_XY = np.cov(X, Y)[0, 1]\n",
    "var_Y = np.var(Y)\n",
    "\n",
    "# Determine the optional coefficient c\n",
    "c = -cov_XY / var_Y\n",
    "\n",
    "\n",
    "Z = X + c * (Y - np.mean(Y))\n",
    "\n",
    "variance_X = np.var(X)\n",
    "variance_Z = np.var(Z)\n",
    "\n",
    "print(\"Control coefficient\", c)\n",
    "print(\"Variance of X\", variance_X)\n",
    "print(\"Variance of Z\", variance_Z)"
   ]
  },
  {
   "cell_type": "markdown",
   "metadata": {},
   "source": [
    "### 4. Estimate the integral from 0 to 1 for exp(x) using stratified sampling, with comparable computer ressources."
   ]
  },
  {
   "cell_type": "code",
   "execution_count": 115,
   "metadata": {},
   "outputs": [
    {
     "name": "stdout",
     "output_type": "stream",
     "text": [
      "Confidence interval: (1.622310379296393, 1.8208153677957868)\n",
      "Estimated integral using stratified sampling: 1.7215628735460902\n",
      "Variance for the combined samepls 0.2477078344370831\n"
     ]
    }
   ],
   "source": [
    "# Number of samples and stratas\n",
    "N = 100\n",
    "k = 10\n",
    "\n",
    "# Divide the interval [0, 1] into k strata\n",
    "strata_bounds = np.linspace(0, 1, k + 1)\n",
    "\n",
    "# S Generate samples within each stratum\n",
    "samples_per_stratum = int(int(N / k))\n",
    "integral_estimate = 0.0\n",
    "combined_samples = np.array([])\n",
    "\n",
    "for i in range(k):\n",
    "    # Generate samples within the current stratum\n",
    "    lower_bound = strata_bounds[i]\n",
    "    upper_bound = strata_bounds[i + 1]\n",
    "\n",
    "    U_stratum = np.random.uniform(low = lower_bound, \n",
    "                                  high = upper_bound, \n",
    "                                  size = samples_per_stratum)\n",
    "    \n",
    "    # Compute the function values f(X)\n",
    "    X_stratum = np.exp(U_stratum)\n",
    "    combined_samples = np.append(combined_samples, X_stratum)\n",
    "\n",
    "    # Average the function values within the stratum\n",
    "    stratum_mean = np.mean(X_stratum)\n",
    "    \n",
    "    # Combine the results\n",
    "    integral_estimate += stratum_mean * (upper_bound - lower_bound)\n",
    "\n",
    "\n",
    "confidence_interval = stats.t.interval(0.95, len(combined_samples)-1, loc=np.mean(combined_samples), scale=stats.sem(combined_samples))\n",
    "\n",
    "print(f\"Confidence interval: {confidence_interval}\")\n",
    "print(f\"Estimated integral using stratified sampling: {integral_estimate}\")\n",
    "print(f\"Variance for the combined samepls {np.var(combined_samples)}\")\n"
   ]
  },
  {
   "cell_type": "markdown",
   "metadata": {},
   "source": [
    "We can add a control coefficient to reduce the variance"
   ]
  },
  {
   "cell_type": "code",
   "execution_count": 118,
   "metadata": {},
   "outputs": [
    {
     "name": "stdout",
     "output_type": "stream",
     "text": [
      "Confidence interval: (1.70080316730685, 1.7093129196887513)\n",
      "Estimated integral using stratified sampling: 1.7050580434978009\n",
      "Variance for the combined samepls 0.004696671478213356\n"
     ]
    }
   ],
   "source": [
    "# Number of samples and stratas\n",
    "N = 100\n",
    "k = 10\n",
    "\n",
    "# Divide the interval [0, 1] into k strata\n",
    "strata_bounds = np.linspace(0, 1, k + 1)\n",
    "\n",
    "# S Generate samples within each stratum\n",
    "samples_per_stratum = int(int(N / k))\n",
    "integral_estimate = 0.0\n",
    "combined_samples = np.array([])\n",
    "\n",
    "for i in range(k):\n",
    "    # Generate samples within the current stratum\n",
    "    lower_bound = strata_bounds[i]\n",
    "    upper_bound = strata_bounds[i + 1]\n",
    "\n",
    "    U_stratum = np.random.uniform(low = lower_bound, \n",
    "                                  high = upper_bound, \n",
    "                                  size = samples_per_stratum)\n",
    "    \n",
    "    # Compute the function values f(X)\n",
    "    X_stratum = np.exp(U_stratum)\n",
    "    Y_stratus = np.exp(1- U_stratum)\n",
    "\n",
    "    # We Add control parameter\n",
    "    cov_XY = np.cov(X, Y)[0, 1]\n",
    "    var_Y = np.var(Y)\n",
    "    c = -cov_XY / var_Y\n",
    "    Z_stratum = X + c * (Y - np.mean(Y))\n",
    "\n",
    "    combined_samples = np.append(combined_samples, Z_stratum)\n",
    "\n",
    "    # Average the function values within the stratum\n",
    "    stratum_mean = np.mean(Z_stratum)\n",
    "    \n",
    "    # Combine the results\n",
    "    integral_estimate += stratum_mean * (upper_bound - lower_bound)\n",
    "\n",
    "\n",
    "confidence_interval = stats.t.interval(0.95, len(combined_samples)-1, loc=np.mean(combined_samples), scale=stats.sem(combined_samples))\n",
    "\n",
    "print(f\"Confidence interval: {confidence_interval}\")\n",
    "print(f\"Estimated integral using stratified sampling: {integral_estimate}\")\n",
    "print(f\"Variance for the combined samepls {np.var(combined_samples)}\")\n"
   ]
  },
  {
   "cell_type": "markdown",
   "metadata": {},
   "source": [
    "### 5. Use control variates to reduce the variance of the estimator in exercise 4 (Poisson arrivals).\n"
   ]
  },
  {
   "cell_type": "markdown",
   "metadata": {},
   "source": [
    "To apply a control variable we need to make the distributions of service time and arrival time in advance"
   ]
  },
  {
   "cell_type": "code",
   "execution_count": 2,
   "metadata": {},
   "outputs": [],
   "source": [
    "m = 10  # Number of service units\n",
    "mean_service_time = 8  # Mean service time in time units\n",
    "mean_interarrival_time = 1  # Mean time between customer arrivals in time units\n",
    "num_customers = 10_000  # Number of customers to simulate\n",
    "num_simulations = 10  # Number of simulation runs"
   ]
  },
  {
   "cell_type": "code",
   "execution_count": 94,
   "metadata": {},
   "outputs": [
    {
     "name": "stderr",
     "output_type": "stream",
     "text": [
      "ic| np.mean(arrival_distribution): 0.9994905495741048\n",
      "    np.mean(service_distribution): 7.943529832051381\n"
     ]
    },
    {
     "data": {
      "text/plain": [
       "(0.9994905495741048, 7.943529832051381)"
      ]
     },
     "execution_count": 94,
     "metadata": {},
     "output_type": "execute_result"
    }
   ],
   "source": [
    "# EXCERCISE 4 PART 1\n",
    "\n",
    "# Exponential\n",
    "def arrival_time_distribution(mean_interarrival_time = mean_interarrival_time):\n",
    "    # Generate uniform random samples\n",
    "    X = np.random.exponential(scale = mean_interarrival_time, size=10000)\n",
    "\n",
    "    Y = 1 - X\n",
    "\n",
    "    cov_XY = np.cov(X, Y)[0, 1]\n",
    "    var_Y = np.var(Y)\n",
    "\n",
    "    # Determine the optional coefficient c\n",
    "    c = -cov_XY / var_Y\n",
    "\n",
    "\n",
    "    Z = X + c * (Y - np.mean(Y))\n",
    "    return Z\n",
    "\n",
    "def service_time_distribution(mean_service_time = mean_service_time):\n",
    "    # Generate uniform random samples\n",
    "    X = np.random.exponential(scale = mean_service_time, size=10000)\n",
    "    Y = 1 - X\n",
    "\n",
    "    cov_XY = np.cov(X, Y)[0, 1]\n",
    "    var_Y = np.var(Y)\n",
    "\n",
    "    # Determine the optional coefficient c\n",
    "    c = -cov_XY / var_Y\n",
    "\n",
    "\n",
    "    Z = X + c * (Y - np.mean(Y))\n",
    "    return Z\n",
    "\n",
    "arrival_distribution = arrival_time_distribution(mean_interarrival_time = mean_interarrival_time)\n",
    "service_distribution = service_time_distribution(mean_service_time = mean_service_time)\n",
    "ic(np.mean(arrival_distribution), np.mean(service_distribution))"
   ]
  },
  {
   "cell_type": "markdown",
   "metadata": {},
   "source": [
    "We need to modify the scrpt from excercise 4 to allow for previously generated distributions"
   ]
  },
  {
   "cell_type": "code",
   "execution_count": 96,
   "metadata": {},
   "outputs": [
    {
     "name": "stderr",
     "output_type": "stream",
     "text": [
      "100%|██████████| 100/100 [00:03<00:00, 25.36it/s]\n"
     ]
    }
   ],
   "source": [
    "\n",
    "# Main simulation\n",
    "def simulate_service_system(m=10, mean_service_time=8, mean_interarrival_time=1, num_customers=10_000, num_simulations=10):\n",
    "    blocked_list = []\n",
    "\n",
    "    for _ in tqdm(range(num_simulations)):\n",
    "        service_list = np.zeros(m)\n",
    "        blocked_count = 0\n",
    "        current_time = 0\n",
    "\n",
    "        #Simulate new numbers:\n",
    "        arrival_distribution = arrival_time_distribution(mean_interarrival_time = mean_interarrival_time)\n",
    "        service_distribution = service_time_distribution(mean_service_time = mean_service_time)\n",
    "\n",
    "        for i in range(num_customers):\n",
    "            arrival_time = arrival_distribution[i]\n",
    "            current_time += arrival_time\n",
    "\n",
    "            # Decrease the remaining service times by the inter-arrival time\n",
    "            service_list[service_list > 0] -= arrival_time\n",
    "\n",
    "            # If any service time goes below zero, set it to zero\n",
    "            service_list[service_list < 0] = 0\n",
    "\n",
    "            # Check for empty service desks\n",
    "            empty_service_desk_indices = np.where(service_list == 0)[0]\n",
    "\n",
    "            if empty_service_desk_indices.size > 0:\n",
    "                empty_service_desk_index = empty_service_desk_indices[0]\n",
    "                service_time = service_distribution[i]\n",
    "                service_list[empty_service_desk_index] = service_time\n",
    "            else:\n",
    "                print(service_list)\n",
    "                blocked_count += 1\n",
    "        blocked_list.append(blocked_count)\n",
    "       \n",
    "    return blocked_list\n",
    "\n",
    "results = simulate_service_system(m=10, \n",
    "                                  mean_service_time=8, \n",
    "                                  mean_interarrival_time=1, \n",
    "                                  num_customers=10_000, \n",
    "                                  num_simulations=100)\n",
    "\n",
    "\n"
   ]
  },
  {
   "cell_type": "code",
   "execution_count": 97,
   "metadata": {},
   "outputs": [
    {
     "name": "stdout",
     "output_type": "stream",
     "text": [
      "[0, 0, 0, 0, 0, 0, 0, 0, 0, 0, 0, 0, 0, 0, 0, 0, 0, 0, 0, 0, 0, 0, 0, 0, 0, 0, 0, 0, 0, 0, 0, 0, 0, 0, 0, 0, 0, 0, 0, 0, 0, 0, 0, 0, 0, 0, 0, 0, 0, 0, 0, 0, 0, 0, 0, 0, 0, 0, 0, 0, 0, 0, 0, 0, 0, 0, 0, 0, 0, 0, 0, 0, 0, 0, 0, 0, 0, 0, 0, 0, 0, 0, 0, 0, 0, 0, 0, 0, 0, 0, 0, 0, 0, 0, 0, 0, 0, 0, 0, 0]\n"
     ]
    }
   ],
   "source": [
    "print(blocked_counts)"
   ]
  },
  {
   "cell_type": "markdown",
   "metadata": {},
   "source": [
    "We can see that using this method, where the simulation has been variance reduced by control variate not a single customer will be blocked."
   ]
  },
  {
   "cell_type": "markdown",
   "metadata": {},
   "source": [
    "### 7. For a standard normal random variable Z ∼ N(0,1) using the crude Monte Carlo estimator estimate the probability Z > a. Then try importance sampling with a normal density with mean a and variance σ2. For the expirements start using σ2 = 1, use different values of a (e.g. 2 and 4), and different sample sizes. If time permits experiment with other values for σ2. Finally discuss the efficiency of the methods."
   ]
  },
  {
   "cell_type": "code",
   "execution_count": 141,
   "metadata": {},
   "outputs": [
    {
     "name": "stdout",
     "output_type": "stream",
     "text": [
      "a:  0.0 \tprobability Z_i > a : 1.0 \t 1 - a:  1.0\n",
      "a:  0.05 \tprobability Z_i > a : 0.95 \t 1 - a:  0.95\n",
      "a:  0.1 \tprobability Z_i > a : 0.902 \t 1 - a:  0.9\n",
      "a:  0.15 \tprobability Z_i > a : 0.843 \t 1 - a:  0.85\n",
      "a:  0.2 \tprobability Z_i > a : 0.802 \t 1 - a:  0.8\n",
      "a:  0.25 \tprobability Z_i > a : 0.75 \t 1 - a:  0.75\n",
      "a:  0.3 \tprobability Z_i > a : 0.699 \t 1 - a:  0.7\n",
      "a:  0.35 \tprobability Z_i > a : 0.641 \t 1 - a:  0.65\n",
      "a:  0.4 \tprobability Z_i > a : 0.6 \t 1 - a:  0.6\n",
      "a:  0.45 \tprobability Z_i > a : 0.546 \t 1 - a:  0.55\n",
      "a:  0.5 \tprobability Z_i > a : 0.492 \t 1 - a:  0.5\n",
      "a:  0.55 \tprobability Z_i > a : 0.447 \t 1 - a:  0.45\n",
      "a:  0.6 \tprobability Z_i > a : 0.404 \t 1 - a:  0.4\n",
      "a:  0.65 \tprobability Z_i > a : 0.342 \t 1 - a:  0.35\n",
      "a:  0.7 \tprobability Z_i > a : 0.297 \t 1 - a:  0.3\n",
      "a:  0.75 \tprobability Z_i > a : 0.25 \t 1 - a:  0.25\n",
      "a:  0.8 \tprobability Z_i > a : 0.197 \t 1 - a:  0.2\n",
      "a:  0.85 \tprobability Z_i > a : 0.152 \t 1 - a:  0.15\n",
      "a:  0.9 \tprobability Z_i > a : 0.096 \t 1 - a:  0.1\n",
      "a:  0.95 \tprobability Z_i > a : 0.05 \t 1 - a:  0.05\n"
     ]
    }
   ],
   "source": [
    "# It would seem obvious that the probability Z > a must be equal to 1-a,\n",
    "# given a is a number between 0 and 1\n",
    "\n",
    "#lets test this\n",
    "\n",
    "N = 10000\n",
    "for a in np.arange(0, 1, 0.05):\n",
    "    samples = np.random.uniform(size = N)\n",
    "    a = np.round(a,2)\n",
    "    prob_over_a = len(samples[samples > a]) / N\n",
    "    prob_over_a = np.round(prob_over_a,3)\n",
    "    print(\"a: \", a, \"\\tprobability Z_i > a :\", prob_over_a, \"\\t 1 - a: \",np.round(1-a,2))"
   ]
  },
  {
   "cell_type": "markdown",
   "metadata": {},
   "source": [
    "It seems plausible that the probability Z > a is 1-a"
   ]
  },
  {
   "cell_type": "code",
   "execution_count": 147,
   "metadata": {},
   "outputs": [
    {
     "name": "stdout",
     "output_type": "stream",
     "text": [
      "a:  0.0 \tprobability Z_i > a : 0.502 \t 1 - a:  1.0\n",
      "a:  0.05 \tprobability Z_i > a : 0.495 \t 1 - a:  0.95\n",
      "a:  0.1 \tprobability Z_i > a : 0.494 \t 1 - a:  0.9\n",
      "a:  0.15 \tprobability Z_i > a : 0.502 \t 1 - a:  0.85\n",
      "a:  0.2 \tprobability Z_i > a : 0.501 \t 1 - a:  0.8\n",
      "a:  0.25 \tprobability Z_i > a : 0.496 \t 1 - a:  0.75\n",
      "a:  0.3 \tprobability Z_i > a : 0.505 \t 1 - a:  0.7\n",
      "a:  0.35 \tprobability Z_i > a : 0.488 \t 1 - a:  0.65\n",
      "a:  0.4 \tprobability Z_i > a : 0.491 \t 1 - a:  0.6\n",
      "a:  0.45 \tprobability Z_i > a : 0.508 \t 1 - a:  0.55\n",
      "a:  0.5 \tprobability Z_i > a : 0.504 \t 1 - a:  0.5\n",
      "a:  0.55 \tprobability Z_i > a : 0.505 \t 1 - a:  0.45\n",
      "a:  0.6 \tprobability Z_i > a : 0.498 \t 1 - a:  0.4\n",
      "a:  0.65 \tprobability Z_i > a : 0.501 \t 1 - a:  0.35\n",
      "a:  0.7 \tprobability Z_i > a : 0.494 \t 1 - a:  0.3\n",
      "a:  0.75 \tprobability Z_i > a : 0.493 \t 1 - a:  0.25\n",
      "a:  0.8 \tprobability Z_i > a : 0.497 \t 1 - a:  0.2\n",
      "a:  0.85 \tprobability Z_i > a : 0.512 \t 1 - a:  0.15\n",
      "a:  0.9 \tprobability Z_i > a : 0.5 \t 1 - a:  0.1\n",
      "a:  0.95 \tprobability Z_i > a : 0.505 \t 1 - a:  0.05\n"
     ]
    }
   ],
   "source": [
    "# We try the same with importance sampling:\n",
    "\n",
    "N = 10000\n",
    "for a in np.arange(0, 1, 0.05):\n",
    "    samples = np.random.normal(loc = a, scale=1, size = N)\n",
    "    a = np.round(a,2)\n",
    "    prob_over_a = len(samples[samples > a]) / N\n",
    "    prob_over_a = np.round(prob_over_a,3)\n",
    "    print(\"a: \", a, \"\\tprobability Z_i > a :\", prob_over_a, \"\\t 1 - a: \",np.round(1-a,2))"
   ]
  },
  {
   "cell_type": "markdown",
   "metadata": {},
   "source": [
    "we can se that sampling usnig a normal distribution with mean a the probability of getting a value Z > a is equal to 0.5  "
   ]
  },
  {
   "cell_type": "code",
   "execution_count": null,
   "metadata": {},
   "outputs": [],
   "source": []
  },
  {
   "cell_type": "code",
   "execution_count": null,
   "metadata": {},
   "outputs": [],
   "source": []
  }
 ],
 "metadata": {
  "kernelspec": {
   "display_name": "anaconda_environment_1",
   "language": "python",
   "name": "python3"
  },
  "language_info": {
   "codemirror_mode": {
    "name": "ipython",
    "version": 3
   },
   "file_extension": ".py",
   "mimetype": "text/x-python",
   "name": "python",
   "nbconvert_exporter": "python",
   "pygments_lexer": "ipython3",
   "version": "3.11.7"
  }
 },
 "nbformat": 4,
 "nbformat_minor": 2
}
