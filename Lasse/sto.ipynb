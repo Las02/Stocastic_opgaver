{
 "cells": [
  {
   "cell_type": "markdown",
   "metadata": {},
   "source": [
    "## Exercise 4\n",
    "### 1)"
   ]
  },
  {
   "cell_type": "code",
   "execution_count": 1,
   "metadata": {},
   "outputs": [],
   "source": [
    "import pandas as pd\n",
    "import numpy as np\n",
    "from icecream import ic\n",
    "\n",
    "# Running it 10 times\n",
    "res = []\n",
    "for _ in range(100):\n",
    "\n",
    "    m = 10\n",
    "    mean_service_time = 8\n",
    "    mean_time_btw_customers = 1\n",
    "\n",
    "    cum_cust = 0\n",
    "    cum_time = 0\n",
    "    blocked = []\n",
    "    n_customer = 10_000\n",
    "    service = []\n",
    "\n",
    "\n",
    "    def update_service_time(service, time):\n",
    "        # update the time\n",
    "        for i in range(len(service)):\n",
    "            service[i] = service[i] - time\n",
    "\n",
    "    def remove_serviced(service, t):\n",
    "        # remove the ones which are below a threshold\n",
    "        new_service = []\n",
    "        for i in range(len(service)):\n",
    "            if service[i] > t:\n",
    "                new_service.append(service[i])\n",
    "        return new_service\n",
    "\n",
    "\n",
    "    for id in range(n_customer):\n",
    "        time = np.random.exponential(mean_time_btw_customers) \n",
    "\n",
    "        # remove the time drawn from the customers \"in service\" time\n",
    "        update_service_time(service, time)\n",
    "        service = remove_serviced(service, 0) # remove the customers with 0 or below time\n",
    "\n",
    "        cum_cust += 1\n",
    "        cum_time += time\n",
    "        if len(service) < m:\n",
    "            service_time = np.random.exponential(mean_service_time, 1)[0] \n",
    "            service.append(service_time)\n",
    "        else:\n",
    "            blocked.append(id)\n",
    "    res.append(len(blocked) / n_customer)"
   ]
  },
  {
   "cell_type": "code",
   "execution_count": 2,
   "metadata": {},
   "outputs": [
    {
     "name": "stderr",
     "output_type": "stream",
     "text": [
      "ic| mean + first*second: 0.12252503631687924\n",
      "ic| mean: 0.12253599999999999\n",
      "ic| mean + first*third: 0.12254696368312075\n"
     ]
    }
   ],
   "source": [
    "import math\n",
    "import scipy\n",
    "# The mean is:\n",
    "\n",
    "def var_mean(res):\n",
    "    mean = np.mean(np.array(res))\n",
    "    var = abs((1/(n_customer -1))  * sum([(x**2)- mean**2 for x in res]))\n",
    "    first = ((math.sqrt(var))  /  math.sqrt(n_customer))  \n",
    "    second = scipy.stats.t.ppf(0.025, df = (n_customer-1)) \n",
    "    third = scipy.stats.t.ppf(1-0.025, df = (n_customer-1)) \n",
    "    ic(mean + first*second)\n",
    "    ic(mean)\n",
    "    ic(mean + first*third)\n",
    "var_mean(res)"
   ]
  },
  {
   "cell_type": "code",
   "execution_count": null,
   "metadata": {},
   "outputs": [],
   "source": []
  },
  {
   "cell_type": "code",
   "execution_count": 3,
   "metadata": {},
   "outputs": [
    {
     "data": {
      "text/plain": [
       "0.12166106425295149"
      ]
     },
     "execution_count": 3,
     "metadata": {},
     "output_type": "execute_result"
    }
   ],
   "source": [
    "# Calculating theoretical\n",
    "import math\n",
    "\n",
    "l = mean_time_btw_customers\n",
    "s = mean_service_time\n",
    "A =  l * s\n",
    "\n",
    "upp = ((A**m)/math.factorial(m)) \n",
    "lowr = [(A**i)/math.factorial(i) for i in range(m + 1)]\n",
    "lowr = sum(lowr)\n",
    "upp/lowr"
   ]
  },
  {
   "cell_type": "markdown",
   "metadata": {},
   "source": [
    "We have nearly the same values between the theroretical and our simulated "
   ]
  },
  {
   "cell_type": "markdown",
   "metadata": {},
   "source": [
    "### 2)"
   ]
  },
  {
   "cell_type": "code",
   "execution_count": 4,
   "metadata": {},
   "outputs": [
    {
     "name": "stderr",
     "output_type": "stream",
     "text": [
      "ic| mean + first*second: 0.11995129568701861\n",
      "ic| mean: 0.11995454545454544\n",
      "ic| mean + first*third: 0.11995779522207227\n"
     ]
    }
   ],
   "source": [
    "import pandas as pd\n",
    "import numpy as np\n",
    "from icecream import ic\n",
    "from functools import partial\n",
    "# The same algorithm as above \n",
    "def algo(func1):\n",
    "    m = 10\n",
    "    mean_service_time = 8\n",
    "    mean_time_btw_customers = 1\n",
    "\n",
    "    cum_cust = 0\n",
    "    cum_time = 0\n",
    "    blocked = []\n",
    "    n_customer = 10_000\n",
    "    service = []\n",
    "\n",
    "\n",
    "    for id in range(n_customer):\n",
    "        time = func1()\n",
    "\n",
    "        # remove the time drawn from the customers \"in service\" time\n",
    "        update_service_time(service, time)\n",
    "        service = remove_serviced(service, 0) # remove the customers with 0 or below time\n",
    "\n",
    "        cum_cust += 1\n",
    "        cum_time += time\n",
    "        if len(service) < m:\n",
    "            service_time = np.random.exponential(mean_service_time, 1)[0] \n",
    "            service.append(service_time)\n",
    "        else:\n",
    "            blocked.append(id)\n",
    "\n",
    "    return (len(blocked) / n_customer)\n",
    "\n",
    "res = []\n",
    "for _ in range(11):\n",
    "    out = algo(partial(scipy.stats.erlang.rvs, a=1))\n",
    "    res.append(out)\n",
    "var_mean(res)"
   ]
  },
  {
   "cell_type": "code",
   "execution_count": 5,
   "metadata": {},
   "outputs": [
    {
     "name": "stderr",
     "output_type": "stream",
     "text": [
      "ic| mean + first*second: 0.14040395249728033\n",
      "ic| mean: 0.1404090909090909\n",
      "ic| mean + first*third: 0.14041422932090147\n"
     ]
    }
   ],
   "source": [
    "def hyper_exp():\n",
    "    p = 0.8\n",
    "    rand = np.random.uniform() \n",
    "    if rand  < p:\n",
    "        return np.random.exponential(1/0.8333, 1)[0] \n",
    "    else: \n",
    "        return np.random.exponential(1/5.0, 1)[0] \n",
    "\n",
    "res = []\n",
    "for _ in range(11):\n",
    "    out = algo(hyper_exp)\n",
    "    res.append(out)\n",
    "var_mean(res)"
   ]
  },
  {
   "cell_type": "markdown",
   "metadata": {},
   "source": [
    "# Etc\n",
    "# Not needed\n",
    "start = 0\n",
    "end = 1\n",
    "u_in_range = np.logical_and(u > start, u < end)\n",
    "x = x[u_in_range]\n",
    "u = u[u_in_range]"
   ]
  },
  {
   "cell_type": "markdown",
   "metadata": {},
   "source": [
    "# 5"
   ]
  },
  {
   "cell_type": "code",
   "execution_count": 16,
   "metadata": {},
   "outputs": [
    {
     "name": "stderr",
     "output_type": "stream",
     "text": [
      "ic| mu: 1.6526825515356363\n",
      "    std**2: 0.23988050092545424\n",
      "    interval: (1.6219702785342172, 1.6833948245370554)\n"
     ]
    }
   ],
   "source": [
    "import numpy as np\n",
    "from icecream import ic\n",
    "import scipy\n",
    "import math\n",
    "import seaborn as sns\n",
    "\n",
    "# 1 Crude\n",
    "u = np.random.uniform(size=100)\n",
    "x = np.exp(u)\n",
    "\n",
    "# Def print mu,std and interval\n",
    "def print_stats(x):\n",
    "    mu = np.mean(x)\n",
    "    std = np.std(x)\n",
    "    interval = scipy.stats.norm.interval(0.05, loc=mu, scale=std)\n",
    "    ic(mu, std**2, interval)\n",
    "\n",
    "print_stats(x)\n",
    "# Both the theoretical mean (1.72) and variance\n",
    "# Are close to ones we found (above)"
   ]
  },
  {
   "cell_type": "code",
   "execution_count": 18,
   "metadata": {},
   "outputs": [
    {
     "name": "stderr",
     "output_type": "stream",
     "text": [
      "ic| mu: 1.709174439378761\n",
      "    std**2: 0.0034457633983818892\n",
      "    interval: (1.7054935123094779, 1.712855366448044)\n"
     ]
    }
   ],
   "source": [
    "# 2 Antithetic variables\n",
    "u = np.random.uniform(size=100)\n",
    "y = (np.exp(u) + np.exp(1-u)) / 2\n",
    "print_stats(y)\n",
    "# This time the variance is smaller. As expected"
   ]
  },
  {
   "cell_type": "code",
   "execution_count": 83,
   "metadata": {},
   "outputs": [
    {
     "name": "stderr",
     "output_type": "stream",
     "text": [
      "ic| mu: 1.7223616570431395\n",
      "    std**2: 0.008198704559389381\n",
      "    interval: (1.7166837653440739, 1.7280395487422051)\n"
     ]
    }
   ],
   "source": [
    "# 3 Control variable\n",
    "u = np.random.uniform(size=100)\n",
    "x = np.exp(u) \n",
    "\n",
    "COV = 0.14086 # From slides\n",
    "C = - COV / np.var(u) \n",
    "z = x + C * (u - 1/2)\n",
    "\n",
    "print_stats(z)\n",
    "# Again we get a lower estimate than using\n",
    "# the crude method"
   ]
  },
  {
   "cell_type": "code",
   "execution_count": 248,
   "metadata": {},
   "outputs": [
    {
     "name": "stderr",
     "output_type": "stream",
     "text": [
      "ic| mu: 1.7200248007053325\n",
      "    std**2: 0.002690263402383624\n",
      "    interval: (1.7167723412766691, 1.7232772601339958)\n"
     ]
    }
   ],
   "source": [
    "# 4 Stratified sampling\n",
    "u = np.random.uniform(size=100)\n",
    "\n",
    "n = 10\n",
    "u_splits = np.split(u, n)\n",
    "\n",
    "sum = 0\n",
    "for i, split in enumerate(u_splits):\n",
    "    sum += np.exp(u/n + i/n) \n",
    "\n",
    "w = sum / n\n",
    "print_stats(w)\n",
    "# Again we get simmilar results"
   ]
  },
  {
   "cell_type": "code",
   "execution_count": 8,
   "metadata": {},
   "outputs": [
    {
     "name": "stderr",
     "output_type": "stream",
     "text": [
      "ic| mean + first*second: 0.11990578951197833\n",
      "ic| mean: 0.11990909090909091\n",
      "ic| mean + first*third: 0.11991239230620349\n"
     ]
    }
   ],
   "source": [
    "#5  Use control variates to reduce the variance of the estimator in E4\n",
    "\n",
    "from functools import partial\n",
    "\n",
    "def update_service_time(service, time):\n",
    "    # update the time\n",
    "    for i in range(len(service)):\n",
    "        service[i] = service[i] - time\n",
    "\n",
    "def remove_serviced(service, t):\n",
    "    # remove the ones which are below a threshold\n",
    "    new_service = []\n",
    "    for i in range(len(service)):\n",
    "        if service[i] > t:\n",
    "            new_service.append(service[i])\n",
    "    return new_service\n",
    "\n",
    "# The same algorithm as above \n",
    "def algo(func1):\n",
    "    m = 10\n",
    "    mean_service_time = 8\n",
    "    mean_time_btw_customers = 1\n",
    "\n",
    "    cum_cust = 0\n",
    "    cum_time = 0\n",
    "    blocked = []\n",
    "    n_customer = 10_000\n",
    "    service = []\n",
    "\n",
    "\n",
    "    for id in range(n_customer):\n",
    "        time = func1()\n",
    "\n",
    "        # remove the time drawn from the customers \"in service\" time\n",
    "        update_service_time(service, time)\n",
    "        service = remove_serviced(service, 0) # remove the customers with 0 or below time\n",
    "\n",
    "        cum_cust += 1\n",
    "        cum_time += time\n",
    "        if len(service) < m:\n",
    "            service_time = np.random.exponential(mean_service_time, 1)[0] \n",
    "            service.append(service_time)\n",
    "        else:\n",
    "            blocked.append(id)\n",
    "\n",
    "    return (len(blocked) / n_customer)\n",
    "\n",
    "\n",
    "\n",
    "# Without control variance estimation\n",
    "res = []\n",
    "for _ in range(11):\n",
    "    out = algo(partial(np.random.exponential, 1))\n",
    "    res.append(out)\n",
    "var_mean(res)\n"
   ]
  },
  {
   "cell_type": "code",
   "execution_count": 127,
   "metadata": {},
   "outputs": [
    {
     "name": "stderr",
     "output_type": "stream",
     "text": [
      "ic| mean + first*second: 0.000463441764602777\n",
      "ic| mean: 0.00046363636363636366\n",
      "ic| mean + first*third: 0.0004638309626699503\n"
     ]
    }
   ],
   "source": [
    "\n",
    "def sample_exp_control_variates():\n",
    "    size = 10_000\n",
    "    u = np.random.uniform(size=size)\n",
    "    x = np.exp(u) \n",
    "    COV = 0.14086 # From slides\n",
    "    C = - COV / np.var(u) \n",
    "    z = x + C * (u - 1/2)\n",
    "    for i in range(size):\n",
    "        yield z[i]\n",
    "\n",
    "# With control variance estimation\n",
    "res = []\n",
    "for _ in range(11):\n",
    "    sampler = sample_exp_control_variates()\n",
    "    out = algo(lambda : next(sampler))\n",
    "    res.append(out)\n",
    "var_mean(res)\n",
    "# Get a wrong result\n"
   ]
  },
  {
   "cell_type": "code",
   "execution_count": 129,
   "metadata": {},
   "outputs": [
    {
     "data": {
      "text/plain": [
       "<Axes: >"
      ]
     },
     "execution_count": 129,
     "metadata": {},
     "output_type": "execute_result"
    },
    {
     "data": {
      "image/png": "[encoded data removed]",
      "text/plain": [
       "<Figure size 640x480 with 1 Axes>"
      ]
     },
     "metadata": {},
     "output_type": "display_data"
    }
   ],
   "source": [
    "# Plot also seem off.\n",
    "def sample_exp_control_variates():\n",
    "    size = 10_000\n",
    "    u = np.random.uniform(size=size)\n",
    "    x = np.exp(-u) # TODO minus here \n",
    "    COV = 0.14086 # From slides\n",
    "    C = - COV / np.var(u) \n",
    "    z = x + C * (u - 1/2)\n",
    "    for i in range(size):\n",
    "        yield u[i], z[i]\n",
    "\n",
    "sampler = sample_exp_control_variates()\n",
    "samp = lambda : next(sampler)\n",
    "a = []\n",
    "b = []\n",
    "for _ in range(100):\n",
    "    x, y = samp()\n",
    "    a.append(x)\n",
    "    b.append(y)\n",
    "a = np.array(a)\n",
    "import seaborn as sns\n",
    "sns.lineplot(x=a, y=b)"
   ]
  },
  {
   "cell_type": "markdown",
   "metadata": {},
   "source": [
    "# Day 6\n",
    "#### E1"
   ]
  },
  {
   "cell_type": "code",
   "execution_count": 331,
   "metadata": {},
   "outputs": [
    {
     "data": {
      "text/plain": [
       "<Axes: >"
      ]
     },
     "execution_count": 331,
     "metadata": {},
     "output_type": "execute_result"
    },
    {
     "data": {
      "image/png": "[encoded data removed]",
      "text/plain": [
       "<Figure size 640x480 with 3 Axes>"
      ]
     },
     "metadata": {},
     "output_type": "display_data"
    }
   ],
   "source": [
    "%reset -f\n",
    "import numpy as np, scipy, math, seaborn as sns\n",
    "import matplotlib.pyplot as plt\n",
    "from icecream import ic\n",
    "# Setting the parameters from E4\n",
    "mean_service_time = 8\n",
    "mean_time_btw_customers = 1\n",
    "l = mean_time_btw_customers\n",
    "s = mean_service_time\n",
    "A =  l * s\n",
    "m = 10\n",
    "\n",
    "# The funciton to simulate\n",
    "g = lambda i: (A**i)/ math.factorial(i)\n",
    "\n",
    "x_old = 5 # initial value\n",
    "x_list = [x_old]\n",
    "i_list = [0]\n",
    "\n",
    "n = 100\n",
    "for i in range(1, n+1):\n",
    "    x_new = np.random.randint(low=1, high=m+1)\n",
    "    a = g(x_new)/g(x_old)\n",
    "    u = np.random.uniform()\n",
    "    # Accepting or rejecting the new value\n",
    "    if u <= a:\n",
    "        x_old = x_new\n",
    "    x_list.append(x_old)\n",
    "    i_list.append(i)\n",
    "\n",
    "fig, ax = plt.subplots(1,3)\n",
    "sns.lineplot(x=i_list, y=x_list, ax=ax[0])\n",
    "sns.histplot(x_list, ax=ax[1])\n",
    "\n",
    "# Plotting the values to see the distribution\n",
    "i = np.arange(1,m+1)\n",
    "y = (A**i)/ np.array(list(map(math.factorial, i)))\n",
    "sns.lineplot(x=i, y=y, ax=ax[2])"
   ]
  },
  {
   "cell_type": "code",
   "execution_count": 323,
   "metadata": {},
   "outputs": [
    {
     "name": "stderr",
     "output_type": "stream",
     "text": [
      "ic| T: 0.2904326571574416\n",
      "ic| len(bins_ideal): 10\n",
      "ic| len(bins): "
     ]
    },
    {
     "name": "stderr",
     "output_type": "stream",
     "text": [
      "10\n",
      "ic| 1 - scipy.stats.chi2.cdf(x = T, df = df): 0.9999971244663927\n"
     ]
    },
    {
     "data": {
      "text/plain": [
       "0.9999971244663927"
      ]
     },
     "execution_count": 323,
     "metadata": {},
     "output_type": "execute_result"
    }
   ],
   "source": [
    "# testing the dist with chi-square test\n",
    "random_numbers = x_list\n",
    "(bins, binby) = np.histogram(random_numbers, bins=list(range(0, m+1)))\n",
    "\n",
    "# The ideal numbers to compare agains\n",
    "bins_ideal = y/(sum(y)) # expected percent values\n",
    "bins = bins/sum(bins)\n",
    "\n",
    "# Calculate test-statistic\n",
    "sum = 0\n",
    "for observed, expected in zip(bins, bins_ideal):\n",
    "    sum += (observed - expected)**2 /  \\\n",
    "        expected\n",
    "T = sum\n",
    "ic(T)\n",
    "ic(len(bins_ideal))\n",
    "ic(len(bins))\n",
    "\n",
    "\n",
    "# Testing\n",
    "m = 0\n",
    "df = len(bins) - 1 - m \n",
    "ic(1 - scipy.stats.chi2.cdf(x = T, df = df))\n",
    "\n",
    "# Based on this the two distributions are equal"
   ]
  },
  {
   "cell_type": "markdown",
   "metadata": {},
   "source": [
    "#### E2\n",
    "a)"
   ]
  },
  {
   "cell_type": "code",
   "execution_count": 329,
   "metadata": {},
   "outputs": [
    {
     "data": {
      "text/plain": [
       "<seaborn.axisgrid.JointGrid at 0x70520840b610>"
      ]
     },
     "execution_count": 329,
     "metadata": {},
     "output_type": "execute_result"
    },
    {
     "data": {
      "image/png": "[encoded data removed]",
      "text/plain": [
       "<Figure size 640x480 with 2 Axes>"
      ]
     },
     "metadata": {},
     "output_type": "display_data"
    },
    {
     "data": {
      "image/png": "[encoded data removed]",
      "text/plain": [
       "<Figure size 600x600 with 3 Axes>"
      ]
     },
     "metadata": {},
     "output_type": "display_data"
    }
   ],
   "source": [
    "\n",
    "%reset -f\n",
    "import numpy as np, scipy, math, seaborn as sns\n",
    "import matplotlib.pyplot as plt\n",
    "from icecream import ic\n",
    "# Setting the parameters from E4\n",
    "A =  4\n",
    "m = 10\n",
    "\n",
    "# The funciton to simulate\n",
    "g = lambda i,j : ((A**i)/ math.factorial(i)) * ((A**j)/ math.factorial(j))\n",
    "\n",
    "x_old = [1,2] # initial value\n",
    "x_list1 = [x_old[0]]\n",
    "x_list2 = [x_old[1]]\n",
    "i_list = [0]\n",
    "\n",
    "n = 10_000\n",
    "for i in range(1, n+1):\n",
    "    x_new = np.random.randint(size=2, low=0, high=m+1)\n",
    "    a = g(x_new[0], x_new[1])/g(x_old[0], x_old[1])\n",
    "    u = np.random.uniform()\n",
    "    # Accepting or rejecting the new value\n",
    "    if u <= a:\n",
    "        x_old = x_new\n",
    "    x_list1.append(x_old[0])\n",
    "    x_list2.append(x_old[1])\n",
    "    i_list.append(i)\n",
    "\n",
    "fig, ax = plt.subplots(1,2)\n",
    "sns.histplot(x_list1, ax=ax[0])\n",
    "sns.histplot(x_list2, ax=ax[1])\n",
    "sns.jointplot(x=x_list1, y=x_list2, kind=\"hex\")\n"
   ]
  },
  {
   "cell_type": "markdown",
   "metadata": {},
   "source": [
    "b)"
   ]
  },
  {
   "cell_type": "markdown",
   "metadata": {},
   "source": []
  }
 ],
 "metadata": {
  "kernelspec": {
   "display_name": ".venv",
   "language": "python",
   "name": "python3"
  },
  "language_info": {
   "codemirror_mode": {
    "name": "ipython",
    "version": 3
   },
   "file_extension": ".py",
   "mimetype": "text/x-python",
   "name": "python",
   "nbconvert_exporter": "python",
   "pygments_lexer": "ipython3",
   "version": "3.10.12"
  }
 },
 "nbformat": 4,
 "nbformat_minor": 2
}
