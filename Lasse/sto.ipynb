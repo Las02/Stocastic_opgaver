{
 "cells": [
  {
   "cell_type": "markdown",
   "metadata": {},
   "source": [
    "## Exercise 4\n",
    "### 1)"
   ]
  },
  {
   "cell_type": "code",
   "execution_count": 1,
   "metadata": {},
   "outputs": [],
   "source": [
    "import pandas as pd\n",
    "import numpy as np\n",
    "from icecream import ic\n",
    "\n",
    "# Running it 10 times\n",
    "res = []\n",
    "for _ in range(100):\n",
    "\n",
    "    m = 10\n",
    "    mean_service_time = 8\n",
    "    mean_time_btw_customers = 1\n",
    "\n",
    "    cum_cust = 0\n",
    "    cum_time = 0\n",
    "    blocked = []\n",
    "    n_customer = 10_000\n",
    "    service = []\n",
    "\n",
    "\n",
    "    def update_service_time(service, time):\n",
    "        # update the time\n",
    "        for i in range(len(service)):\n",
    "            service[i] = service[i] - time\n",
    "\n",
    "    def remove_serviced(service, t):\n",
    "        # remove the ones which are below a threshold\n",
    "        new_service = []\n",
    "        for i in range(len(service)):\n",
    "            if service[i] > t:\n",
    "                new_service.append(service[i])\n",
    "        return new_service\n",
    "\n",
    "\n",
    "    for id in range(n_customer):\n",
    "        time = np.random.exponential(mean_time_btw_customers) \n",
    "\n",
    "        # remove the time drawn from the customers \"in service\" time\n",
    "        update_service_time(service, time)\n",
    "        service = remove_serviced(service, 0) # remove the customers with 0 or below time\n",
    "\n",
    "        cum_cust += 1\n",
    "        cum_time += time\n",
    "        if len(service) < m:\n",
    "            service_time = np.random.exponential(mean_service_time, 1)[0] \n",
    "            service.append(service_time)\n",
    "        else:\n",
    "            blocked.append(id)\n",
    "    res.append(len(blocked) / n_customer)"
   ]
  },
  {
   "cell_type": "code",
   "execution_count": 2,
   "metadata": {},
   "outputs": [
    {
     "name": "stderr",
     "output_type": "stream",
     "text": [
      "ic| mean + first*second: 0.12252503631687924\n",
      "ic| mean: 0.12253599999999999\n",
      "ic| mean + first*third: 0.12254696368312075\n"
     ]
    }
   ],
   "source": [
    "import math\n",
    "import scipy\n",
    "# The mean is:\n",
    "\n",
    "def var_mean(res):\n",
    "    mean = np.mean(np.array(res))\n",
    "    var = abs((1/(n_customer -1))  * sum([(x**2)- mean**2 for x in res]))\n",
    "    first = ((math.sqrt(var))  /  math.sqrt(n_customer))  \n",
    "    second = scipy.stats.t.ppf(0.025, df = (n_customer-1)) \n",
    "    third = scipy.stats.t.ppf(1-0.025, df = (n_customer-1)) \n",
    "    ic(mean + first*second)\n",
    "    ic(mean)\n",
    "    ic(mean + first*third)\n",
    "var_mean(res)"
   ]
  },
  {
   "cell_type": "code",
   "execution_count": null,
   "metadata": {},
   "outputs": [],
   "source": []
  },
  {
   "cell_type": "code",
   "execution_count": 3,
   "metadata": {},
   "outputs": [
    {
     "data": {
      "text/plain": [
       "0.12166106425295149"
      ]
     },
     "execution_count": 3,
     "metadata": {},
     "output_type": "execute_result"
    }
   ],
   "source": [
    "# Calculating theoretical\n",
    "import math\n",
    "\n",
    "l = mean_time_btw_customers\n",
    "s = mean_service_time\n",
    "A =  l * s\n",
    "\n",
    "upp = ((A**m)/math.factorial(m)) \n",
    "lowr = [(A**i)/math.factorial(i) for i in range(m + 1)]\n",
    "lowr = sum(lowr)\n",
    "upp/lowr"
   ]
  },
  {
   "cell_type": "markdown",
   "metadata": {},
   "source": [
    "We have nearly the same values between the theroretical and our simulated "
   ]
  },
  {
   "cell_type": "markdown",
   "metadata": {},
   "source": [
    "### 2)"
   ]
  },
  {
   "cell_type": "code",
   "execution_count": 4,
   "metadata": {},
   "outputs": [
    {
     "name": "stderr",
     "output_type": "stream",
     "text": [
      "ic| mean + first*second: 0.11995129568701861\n",
      "ic| mean: 0.11995454545454544\n",
      "ic| mean + first*third: 0.11995779522207227\n"
     ]
    }
   ],
   "source": [
    "import pandas as pd\n",
    "import numpy as np\n",
    "from icecream import ic\n",
    "from functools import partial\n",
    "# The same algorithm as above \n",
    "def algo(func1):\n",
    "    m = 10\n",
    "    mean_service_time = 8\n",
    "    mean_time_btw_customers = 1\n",
    "\n",
    "    cum_cust = 0\n",
    "    cum_time = 0\n",
    "    blocked = []\n",
    "    n_customer = 10_000\n",
    "    service = []\n",
    "\n",
    "\n",
    "    for id in range(n_customer):\n",
    "        time = func1()\n",
    "\n",
    "        # remove the time drawn from the customers \"in service\" time\n",
    "        update_service_time(service, time)\n",
    "        service = remove_serviced(service, 0) # remove the customers with 0 or below time\n",
    "\n",
    "        cum_cust += 1\n",
    "        cum_time += time\n",
    "        if len(service) < m:\n",
    "            service_time = np.random.exponential(mean_service_time, 1)[0] \n",
    "            service.append(service_time)\n",
    "        else:\n",
    "            blocked.append(id)\n",
    "\n",
    "    return (len(blocked) / n_customer)\n",
    "\n",
    "res = []\n",
    "for _ in range(11):\n",
    "    out = algo(partial(scipy.stats.erlang.rvs, a=1))\n",
    "    res.append(out)\n",
    "var_mean(res)"
   ]
  },
  {
   "cell_type": "code",
   "execution_count": 5,
   "metadata": {},
   "outputs": [
    {
     "name": "stderr",
     "output_type": "stream",
     "text": [
      "ic| mean + first*second: 0.14040395249728033\n",
      "ic| mean: 0.1404090909090909\n",
      "ic| mean + first*third: 0.14041422932090147\n"
     ]
    }
   ],
   "source": [
    "def hyper_exp():\n",
    "    p = 0.8\n",
    "    rand = np.random.uniform() \n",
    "    if rand  < p:\n",
    "        return np.random.exponential(1/0.8333, 1)[0] \n",
    "    else: \n",
    "        return np.random.exponential(1/5.0, 1)[0] \n",
    "\n",
    "res = []\n",
    "for _ in range(11):\n",
    "    out = algo(hyper_exp)\n",
    "    res.append(out)\n",
    "var_mean(res)"
   ]
  },
  {
   "cell_type": "markdown",
   "metadata": {},
   "source": [
    "# Etc\n",
    "# Not needed\n",
    "start = 0\n",
    "end = 1\n",
    "u_in_range = np.logical_and(u > start, u < end)\n",
    "x = x[u_in_range]\n",
    "u = u[u_in_range]"
   ]
  },
  {
   "cell_type": "markdown",
   "metadata": {},
   "source": [
    "# 5"
   ]
  },
  {
   "cell_type": "code",
   "execution_count": 16,
   "metadata": {},
   "outputs": [
    {
     "name": "stderr",
     "output_type": "stream",
     "text": [
      "ic| mu: 1.6526825515356363\n",
      "    std**2: 0.23988050092545424\n",
      "    interval: (1.6219702785342172, 1.6833948245370554)\n"
     ]
    }
   ],
   "source": [
    "import numpy as np\n",
    "from icecream import ic\n",
    "import scipy\n",
    "import math\n",
    "import seaborn as sns\n",
    "\n",
    "# 1 Crude\n",
    "u = np.random.uniform(size=100)\n",
    "x = np.exp(u)\n",
    "\n",
    "# Def print mu,std and interval\n",
    "def print_stats(x):\n",
    "    mu = np.mean(x)\n",
    "    std = np.std(x)\n",
    "    interval = scipy.stats.norm.interval(0.05, loc=mu, scale=std)\n",
    "    ic(mu, std**2, interval)\n",
    "\n",
    "print_stats(x)\n",
    "# Both the theoretical mean (1.72) and variance\n",
    "# Are close to ones we found (above)"
   ]
  },
  {
   "cell_type": "code",
   "execution_count": 18,
   "metadata": {},
   "outputs": [
    {
     "name": "stderr",
     "output_type": "stream",
     "text": [
      "ic| mu: 1.709174439378761\n",
      "    std**2: 0.0034457633983818892\n",
      "    interval: (1.7054935123094779, 1.712855366448044)\n"
     ]
    }
   ],
   "source": [
    "# 2 Antithetic variables\n",
    "u = np.random.uniform(size=100)\n",
    "y = (np.exp(u) + np.exp(1-u)) / 2\n",
    "print_stats(y)\n",
    "# This time the variance is smaller. As expected"
   ]
  },
  {
   "cell_type": "code",
   "execution_count": 83,
   "metadata": {},
   "outputs": [
    {
     "name": "stderr",
     "output_type": "stream",
     "text": [
      "ic| mu: 1.7223616570431395\n",
      "    std**2: 0.008198704559389381\n",
      "    interval: (1.7166837653440739, 1.7280395487422051)\n"
     ]
    }
   ],
   "source": [
    "# 3 Control variable\n",
    "u = np.random.uniform(size=100)\n",
    "x = np.exp(u) \n",
    "\n",
    "COV = 0.14086 # From slides\n",
    "C = - COV / np.var(u) \n",
    "z = x + C * (u - 1/2)\n",
    "\n",
    "print_stats(z)\n",
    "# Again we get a lower estimate than using\n",
    "# the crude method"
   ]
  },
  {
   "cell_type": "code",
   "execution_count": 248,
   "metadata": {},
   "outputs": [
    {
     "name": "stderr",
     "output_type": "stream",
     "text": [
      "ic| mu: 1.7200248007053325\n",
      "    std**2: 0.002690263402383624\n",
      "    interval: (1.7167723412766691, 1.7232772601339958)\n"
     ]
    }
   ],
   "source": [
    "# 4 Stratified sampling\n",
    "u = np.random.uniform(size=100)\n",
    "\n",
    "n = 10\n",
    "u_splits = np.split(u, n)\n",
    "\n",
    "sum = 0\n",
    "for i, split in enumerate(u_splits):\n",
    "    sum += np.exp(u/n + i/n) \n",
    "\n",
    "w = sum / n\n",
    "print_stats(w)\n",
    "# Again we get simmilar results"
   ]
  },
  {
   "cell_type": "code",
   "execution_count": 8,
   "metadata": {},
   "outputs": [
    {
     "name": "stderr",
     "output_type": "stream",
     "text": [
      "ic| mean + first*second: 0.11990578951197833\n",
      "ic| mean: 0.11990909090909091\n",
      "ic| mean + first*third: 0.11991239230620349\n"
     ]
    }
   ],
   "source": [
    "#5  Use control variates to reduce the variance of the estimator in E4\n",
    "\n",
    "from functools import partial\n",
    "\n",
    "def update_service_time(service, time):\n",
    "    # update the time\n",
    "    for i in range(len(service)):\n",
    "        service[i] = service[i] - time\n",
    "\n",
    "def remove_serviced(service, t):\n",
    "    # remove the ones which are below a threshold\n",
    "    new_service = []\n",
    "    for i in range(len(service)):\n",
    "        if service[i] > t:\n",
    "            new_service.append(service[i])\n",
    "    return new_service\n",
    "\n",
    "# The same algorithm as above \n",
    "def algo(func1):\n",
    "    m = 10\n",
    "    mean_service_time = 8\n",
    "    mean_time_btw_customers = 1\n",
    "\n",
    "    cum_cust = 0\n",
    "    cum_time = 0\n",
    "    blocked = []\n",
    "    n_customer = 10_000\n",
    "    service = []\n",
    "\n",
    "\n",
    "    for id in range(n_customer):\n",
    "        time = func1()\n",
    "\n",
    "        # remove the time drawn from the customers \"in service\" time\n",
    "        update_service_time(service, time)\n",
    "        service = remove_serviced(service, 0) # remove the customers with 0 or below time\n",
    "\n",
    "        cum_cust += 1\n",
    "        cum_time += time\n",
    "        if len(service) < m:\n",
    "            service_time = np.random.exponential(mean_service_time, 1)[0] \n",
    "            service.append(service_time)\n",
    "        else:\n",
    "            blocked.append(id)\n",
    "\n",
    "    return (len(blocked) / n_customer)\n",
    "\n",
    "\n",
    "\n",
    "# Without control variance estimation\n",
    "res = []\n",
    "for _ in range(11):\n",
    "    out = algo(partial(np.random.exponential, 1))\n",
    "    res.append(out)\n",
    "var_mean(res)\n"
   ]
  },
  {
   "cell_type": "code",
   "execution_count": 127,
   "metadata": {},
   "outputs": [
    {
     "name": "stderr",
     "output_type": "stream",
     "text": [
      "ic| mean + first*second: 0.000463441764602777\n",
      "ic| mean: 0.00046363636363636366\n",
      "ic| mean + first*third: 0.0004638309626699503\n"
     ]
    }
   ],
   "source": [
    "\n",
    "def sample_exp_control_variates():\n",
    "    size = 10_000\n",
    "    u = np.random.uniform(size=size)\n",
    "    x = np.exp(u) \n",
    "    COV = 0.14086 # From slides\n",
    "    C = - COV / np.var(u) \n",
    "    z = x + C * (u - 1/2)\n",
    "    for i in range(size):\n",
    "        yield z[i]\n",
    "\n",
    "# With control variance estimation\n",
    "res = []\n",
    "for _ in range(11):\n",
    "    sampler = sample_exp_control_variates()\n",
    "    out = algo(lambda : next(sampler))\n",
    "    res.append(out)\n",
    "var_mean(res)\n",
    "# Get a wrong result\n"
   ]
  },
  {
   "cell_type": "code",
   "execution_count": 129,
   "metadata": {},
   "outputs": [
    {
     "data": {
      "text/plain": [
       "<Axes: >"
      ]
     },
     "execution_count": 129,
     "metadata": {},
     "output_type": "execute_result"
    },
    {
     "data": {
      "image/png": "[encoded data removed]",
      "text/plain": [
       "<Figure size 640x480 with 1 Axes>"
      ]
     },
     "metadata": {},
     "output_type": "display_data"
    }
   ],
   "source": [
    "# Plot also seem off.\n",
    "def sample_exp_control_variates():\n",
    "    size = 10_000\n",
    "    u = np.random.uniform(size=size)\n",
    "    x = np.exp(-u) # TODO minus here \n",
    "    COV = 0.14086 # From slides\n",
    "    C = - COV / np.var(u) \n",
    "    z = x + C * (u - 1/2)\n",
    "    for i in range(size):\n",
    "        yield u[i], z[i]\n",
    "\n",
    "sampler = sample_exp_control_variates()\n",
    "samp = lambda : next(sampler)\n",
    "a = []\n",
    "b = []\n",
    "for _ in range(100):\n",
    "    x, y = samp()\n",
    "    a.append(x)\n",
    "    b.append(y)\n",
    "a = np.array(a)\n",
    "import seaborn as sns\n",
    "sns.lineplot(x=a, y=b)"
   ]
  },
  {
   "cell_type": "markdown",
   "metadata": {},
   "source": [
    "# Day 6\n",
    "#### E1"
   ]
  },
  {
   "cell_type": "code",
   "execution_count": 574,
   "metadata": {},
   "outputs": [
    {
     "data": {
      "text/plain": [
       "<Axes: >"
      ]
     },
     "execution_count": 574,
     "metadata": {},
     "output_type": "execute_result"
    },
    {
     "data": {
      "image/png": "[encoded data removed]",
      "text/plain": [
       "<Figure size 640x480 with 3 Axes>"
      ]
     },
     "metadata": {},
     "output_type": "display_data"
    }
   ],
   "source": [
    "%reset -f\n",
    "import numpy as np, scipy, math, seaborn as sns\n",
    "import matplotlib.pyplot as plt\n",
    "from icecream import ic\n",
    "# Setting the parameters from E4\n",
    "mean_service_time = 8\n",
    "mean_time_btw_customers = 1\n",
    "l = mean_time_btw_customers\n",
    "s = mean_service_time\n",
    "A =  l * s\n",
    "m = 10\n",
    "\n",
    "# The funciton to simulate\n",
    "g = lambda i: (A**i)/ math.factorial(i)\n",
    "\n",
    "x_old = 5 # initial value\n",
    "x_list = [x_old]\n",
    "i_list = [0]\n",
    "\n",
    "n = 100\n",
    "for i in range(1, n+1):\n",
    "    x_new = np.random.randint(low=1, high=m+1)\n",
    "    a = g(x_new)/g(x_old)\n",
    "    u = np.random.uniform()\n",
    "    # Accepting or rejecting the new value\n",
    "    if u <= a:\n",
    "        x_old = x_new\n",
    "    x_list.append(x_old)\n",
    "    i_list.append(i)\n",
    "\n",
    "fig, ax = plt.subplots(1,3)\n",
    "sns.lineplot(x=i_list, y=x_list, ax=ax[0])\n",
    "sns.histplot(x_list, ax=ax[1])\n",
    "\n",
    "# Plotting the values to see the distribution\n",
    "i = np.arange(1,m+1)\n",
    "y = (A**i)/ np.array(list(map(math.factorial, i)))\n",
    "sns.lineplot(x=i, y=y, ax=ax[2])\n",
    "\n",
    "# Below we can see the distribution we simulated \n",
    "# is matching the distribution we tried to simulate"
   ]
  },
  {
   "cell_type": "code",
   "execution_count": 575,
   "metadata": {},
   "outputs": [
    {
     "name": "stderr",
     "output_type": "stream",
     "text": [
      "ic| T: 0.20798485877522002\n",
      "ic| len(bins_ideal): 10\n",
      "ic| len(bins): 10\n",
      "ic| 1 - scipy.stats.chi2.cdf(x = T, df = df): 0.999999338159666\n"
     ]
    },
    {
     "data": {
      "text/plain": [
       "0.999999338159666"
      ]
     },
     "execution_count": 575,
     "metadata": {},
     "output_type": "execute_result"
    }
   ],
   "source": [
    "# testing the dist with chi-square test\n",
    "# Binning the distribution\n",
    "random_numbers = x_list\n",
    "(bins, binby) = np.histogram(random_numbers, bins=list(range(0, m+1)))\n",
    "\n",
    "# The ideal numbers to compare against\n",
    "bins_ideal = y/(sum(y)) # expected percent values\n",
    "bins = bins/sum(bins)\n",
    "\n",
    "# Calculate test-statistic\n",
    "sum = 0\n",
    "for observed, expected in zip(bins, bins_ideal):\n",
    "    sum += (observed - expected)**2 /  \\\n",
    "        expected\n",
    "T = sum\n",
    "ic(T)\n",
    "ic(len(bins_ideal))\n",
    "ic(len(bins))\n",
    "\n",
    "\n",
    "# Testing\n",
    "m = 0\n",
    "df = len(bins) - 1 - m \n",
    "ic(1 - scipy.stats.chi2.cdf(x = T, df = df))\n",
    "\n",
    "# Based on this the two distributions are equal (p=0.999)"
   ]
  },
  {
   "cell_type": "markdown",
   "metadata": {},
   "source": [
    "#### E2"
   ]
  },
  {
   "cell_type": "code",
   "execution_count": 576,
   "metadata": {},
   "outputs": [
    {
     "data": {
      "text/plain": [
       "<seaborn.axisgrid.JointGrid at 0x70520ce9e0b0>"
      ]
     },
     "execution_count": 576,
     "metadata": {},
     "output_type": "execute_result"
    },
    {
     "data": {
      "image/png": "[encoded data removed]",
      "text/plain": [
       "<Figure size 600x600 with 3 Axes>"
      ]
     },
     "metadata": {},
     "output_type": "display_data"
    }
   ],
   "source": [
    "\n",
    "%reset -f\n",
    "import numpy as np, scipy, math, seaborn as sns\n",
    "import matplotlib.pyplot as plt\n",
    "from icecream import ic\n",
    "# Setting the parameters from E4\n",
    "A =  4\n",
    "m = 10\n",
    "\n",
    "# The funciton to simulate\n",
    "# In this case it takes two values instead of one\n",
    "g = lambda i,j : ((A**i)/ math.factorial(i)) * ((A**j)/ math.factorial(j))\n",
    "\n",
    "x_old = [1,2] # initial value\n",
    "x_list1 = [x_old[0]]\n",
    "x_list2 = [x_old[1]]\n",
    "i_list = [0]\n",
    "\n",
    "n = 10_000\n",
    "for i in range(1, n+1):\n",
    "    x_new = [np.nan,np.nan]\n",
    "    x_new[0] = np.random.randint(size=1, low=0, high=m+1)[0]\n",
    "    x_new[1] = np.random.randint(size=1, low=0, high=m+1-x_new[0])[0]\n",
    "\n",
    "    a = g(x_new[0], x_new[1])/g(x_old[0], x_old[1])\n",
    "    u = np.random.uniform()\n",
    "    # Accepting or rejecting the new value\n",
    "    if u <= a:\n",
    "        x_old = x_new\n",
    "    x_list1.append(x_old[0])\n",
    "    x_list2.append(x_old[1])\n",
    "    i_list.append(i)\n",
    "\n",
    "# Plotting the distribution\n",
    "sns.jointplot(x=x_list1, y=x_list2, kind=\"hex\")\n",
    "# In this case we can see the values in 2d.\n",
    "# And we can see that the methods works with\n",
    "# several values"
   ]
  },
  {
   "cell_type": "code",
   "execution_count": 610,
   "metadata": {},
   "outputs": [
    {
     "name": "stderr",
     "output_type": "stream",
     "text": [
      "ic| np.meshgrid(x,x): [array([[ 0,  1,  2,  3,  4,  5,  6,  7,  8,  9, 10],\n",
      "                             [ 0,  1,  2,  3,  4,  5,  6,  7,  8,  9, 10],\n",
      "                             [ 0,  1,  2,  3,  4,  5,  6,  7,  8,  9, 10],\n",
      "                             [ 0,  1,  2,  3,  4,  5,  6,  7,  8,  9, 10],\n",
      "                             [ 0,  1,  2,  3,  4,  5,  6,  7,  8,  9, 10],\n",
      "                             [ 0,  1,  2,  3,  4,  5,  6,  7,  8,  9, 10],\n",
      "                             [ 0,  1,  2,  3,  4,  5,  6,  7,  8,  9, 10],\n",
      "                             [ 0,  1,  2,  3,  4,  5,  6,  7,  8,  9, 10],\n",
      "                             [ 0,  1,  2,  3,  4,  5,  6,  7,  8,  9, 10],\n",
      "                             [ 0,  1,  2,  3,  4,  5,  6,  7,  8,  9, 10],\n",
      "                             [ 0,  1,  2,  3,  4,  5,  6,  7,  8,  9, 10]]),\n",
      "                       array([[ 0,  0,  0,  0,  0,  0,  0,  0,  0,  0,  0],\n",
      "                             [ 1,  1,  1,  1,  1,  1,  1,  1,  1,  1,  1],\n",
      "                             [ 2,  2,  2,  2,  2,  2,  2,  2,  2,  2,  2],\n",
      "                             [ 3,  3,  3,  3,  3,  3,  3,  3,  3,  3,  3],\n",
      "                             [ 4,  4,  4,  4,  4,  4,  4,  4,  4,  4,  4],\n",
      "                             [ 5,  5,  5,  5,  5,  5,  5,  5,  5,  5,  5],\n",
      "                             [ 6,  6,  6,  6,  6,  6,  6,  6,  6,  6,  6],\n",
      "                             [ 7,  7,  7,  7,  7,  7,  7,  7,  7,  7,  7],\n",
      "                             [ 8,  8,  8,  8,  8,  8,  8,  8,  8,  8,  8],\n",
      "                             [ 9,  9,  9,  9,  9,  9,  9,  9,  9,  9,  9],\n",
      "                             [10, 10, 10, 10, 10, 10, 10, 10, 10, 10, 10]])]\n",
      "ic| 1 - scipy.stats.chi2.cdf(x = T, df = df): 0.0\n",
      "    T: 8576.080889723618\n"
     ]
    },
    {
     "data": {
      "image/png": "[encoded data removed]",
      "text/plain": [
       "<Figure size 640x480 with 2 Axes>"
      ]
     },
     "metadata": {},
     "output_type": "display_data"
    }
   ],
   "source": [
    "from scipy.stats import chisquare\n",
    "# defining method to test distributions with two variables\n",
    "def test_two_chi2(x_arr, y_arr, g):\n",
    "    def count_target(x_arr, y_arr, x_target, y_target):\n",
    "        # Count the numbers which match the target\n",
    "        count = 0\n",
    "        for x, y in zip(x_arr, y_arr):\n",
    "            if x == x_target and y == y_target:\n",
    "                count += 1\n",
    "        return count\n",
    "\n",
    "    # Calculate expected for each combination and the found\n",
    "    x = np.arange(0, 10+1)\n",
    "    first, second = ic(np.meshgrid(x,x))\n",
    "    expected = []\n",
    "    target = []\n",
    "    for f,s in zip(first.flatten(), second.flatten()):\n",
    "        if f + s <= 10: \n",
    "            expected.append(g(f,s))\n",
    "            target.append(count_target(x_arr, y_arr, f, s))\n",
    "\n",
    "    expected = np.array(expected)\n",
    "    target = np.array(target)\n",
    "    import matplotlib.pyplot as plt\n",
    "    plt,ax = plt.subplots(1,2)\n",
    "\n",
    "    # Converting to propabilities\n",
    "    expected = (expected/sum(expected)) * sum(target)\n",
    "    sns.histplot(target, ax=ax[0])\n",
    "    sns.histplot(expected,ax=ax[1])\n",
    "\n",
    "    # Calculating the statistic\n",
    "    total = 0\n",
    "    for observed, expec in zip(target, expected):\n",
    "        total += (observed - expec)**2 /  \\\n",
    "            expec\n",
    "    T = total\n",
    "\n",
    "    # And testing the statistic\n",
    "    m = 0\n",
    "    df = len(target) - 1 - m  \n",
    "\n",
    "    ic(1 - scipy.stats.chi2.cdf(x = T, df = df), T)\n",
    "\n",
    "# Testing the distribution fit \n",
    "x_arr = np.array(x_list1)\n",
    "y_arr = np.array(x_list2)\n",
    "test_two_chi2(x_arr, y_arr, g)\n",
    "# As can be seen it seems to not follow the distribution\n",
    "# Meaning that we might have made a mistake somewhere \n"
   ]
  },
  {
   "cell_type": "markdown",
   "metadata": {},
   "source": [
    "b)"
   ]
  },
  {
   "cell_type": "code",
   "execution_count": 596,
   "metadata": {},
   "outputs": [
    {
     "data": {
      "text/plain": [
       "<seaborn.axisgrid.JointGrid at 0x7052091b3e50>"
      ]
     },
     "execution_count": 596,
     "metadata": {},
     "output_type": "execute_result"
    },
    {
     "data": {
      "image/png": "[encoded data removed]",
      "text/plain": [
       "<Figure size 600x600 with 3 Axes>"
      ]
     },
     "metadata": {},
     "output_type": "display_data"
    }
   ],
   "source": [
    "## Coordinatewise implementation\n",
    "# It swaps between each coordinate on each\n",
    "# iteration\n",
    "\n",
    "import numpy as np, scipy, math, seaborn as sns\n",
    "import matplotlib.pyplot as plt\n",
    "from icecream import ic\n",
    "# Setting the parameters from E4\n",
    "A =  4\n",
    "m = 10\n",
    "\n",
    "# The funciton to simulate\n",
    "# In this case it takes two values instead of one, as  before\n",
    "g = lambda i,j : ((A**i)/ math.factorial(i)) * ((A**j)/ math.factorial(j))\n",
    "\n",
    "# initial values\n",
    "x_old = [1,2] # initial value\n",
    "x_list1 = [x_old[0]]\n",
    "x_list2 = [x_old[1]]\n",
    "i_list = [0]\n",
    "\n",
    "left_direction = False\n",
    "\n",
    "n = 10\n",
    "n = 10_000\n",
    "for i in range(1, n+1):\n",
    "\n",
    "    # Only take a step in either direction\n",
    "    # Implemented by keeping either old value:\n",
    "    if left_direction:\n",
    "        # Only generate one random number\n",
    "        x_new = np.random.randint(size=1, low=0, high=m+1-x_old[1])\n",
    "        x_new = x_new[0]\n",
    "        x_new = [x_new, x_old[1]]\n",
    "        left_direction = False\n",
    "    else: \n",
    "        # Only generate one random number\n",
    "        x_new = np.random.randint(size=1, low=0, high=m+1-x_old[0])\n",
    "        x_new = x_new[0]\n",
    "        x_new = [x_old[0], x_new]\n",
    "        left_direction = True\n",
    "    a = g(x_new[0], x_new[1])/g(x_old[0], x_old[1])\n",
    "\n",
    "    u = np.random.uniform()\n",
    "    # Accepting or rejecting the new value\n",
    "    if u <= a:\n",
    "        x_old = x_new\n",
    "    x_list1.append(x_old[0])\n",
    "    x_list2.append(x_old[1])\n",
    "    i_list.append(i)\n",
    "\n",
    "# Plotting the distribution\n",
    "sns.jointplot(x=x_list1, y=x_list2, kind=\"hex\")\n",
    "\n",
    "# In this case the results seems simmilar as above\n",
    "# Although this time we only need to draw 1 new random number\n",
    "# As the possible candidate instead of 2 as in the previous method.\n",
    "# The method is therefore less computational intensive! "
   ]
  },
  {
   "cell_type": "code",
   "execution_count": 597,
   "metadata": {},
   "outputs": [
    {
     "name": "stderr",
     "output_type": "stream",
     "text": [
      "ic| 1 - scipy.stats.chi2.cdf(x = T, df = df): 1.7852386235972517e-13\n",
      "    T: 149.8978872529107\n"
     ]
    }
   ],
   "source": [
    "# Testing the distribution fit \n",
    "x_arr = np.array(x_list1)\n",
    "y_arr = np.array(x_list2)\n",
    "test_two_chi2(x_arr, y_arr, g)\n",
    "# As can be seen it seems to not follow the distribution\n",
    "# Meaning that we might have made a mistake somewhere again\n",
    "# Posible with the chi2 implementation"
   ]
  },
  {
   "cell_type": "markdown",
   "metadata": {},
   "source": [
    "c) Gibbs sampling\n",
    "\n",
    "\n",
    "Firstly we need to find the conditionaly distributions $P(i|j)$ and $P(j|i)$: \\\n",
    "Here finding $P(i|j)$ is sufficient as $P(j|i)$ will be the same with j and i swapped:\n",
    "$$\n",
    "P(i|j) = \\frac{P(i,j)}{P(j)} = \\frac{ c \\cdot \\frac{A_1^i}{i!} \\frac{A_2^j}{j!}  } \n",
    "{\\sum_{k=0}^{m-j} c \\cdot \\frac{A_1^k}{k!} \\frac{A_2^j}{j!}   }\n",
    "= \n",
    "\\frac{ \\frac{A_1^i}{i!} \\frac{A_2^j}{j!}  } \n",
    "{\\frac{A_1^j}{j!} \\sum_{k=0}^{m-j}  \\frac{A_1^k}{k!}   }\n",
    "=\n",
    "\\frac{ \\frac{A_2^i}{i!}  } \n",
    "{\\sum_{k=0}^{m-j}  \\frac{A_1^k}{k!}   }\n",
    "$$\n",
    "\n",
    "\n"
   ]
  },
  {
   "cell_type": "code",
   "execution_count": 598,
   "metadata": {},
   "outputs": [],
   "source": [
    "import numpy as np, scipy, math, seaborn as sns\n",
    "import matplotlib.pyplot as plt\n",
    "from icecream import ic\n",
    "# Setting the parameters from E4\n",
    "A =  4\n",
    "m = 10\n",
    "\n",
    "# The conditional distribution p(i|j) implemented as g(), as described above \n",
    "# (and p(j|i) implemented when given the arguments in the reverse order)\n",
    "f = lambda i: ((A**i)/ math.factorial(i))\n",
    "def g(i, j):\n",
    "    out = f(i) / sum([f(k) for k in list(range(m+1-j))])\n",
    "    return out\n",
    "\n",
    "\n",
    "# Now define a function to sample from the conditional distribution\n",
    "def sample_g(j):\n",
    "    x = list(range(0, 11-j))\n",
    "    y = np.array([g(i,j) for i in x])\n",
    "    out = np.random.choice(x, p=y/(sum(y)))\n",
    "    return out\n"
   ]
  },
  {
   "cell_type": "code",
   "execution_count": 599,
   "metadata": {},
   "outputs": [
    {
     "name": "stderr",
     "output_type": "stream",
     "text": [
      "ic| 1 - scipy.stats.chi2.cdf(x = T, df = df): 0.0\n",
      "    T: 5212.608658545713\n"
     ]
    },
    {
     "data": {
      "image/png": "[encoded data removed]",
      "text/plain": [
       "<Figure size 600x600 with 3 Axes>"
      ]
     },
     "metadata": {},
     "output_type": "display_data"
    }
   ],
   "source": [
    "# Initial values\n",
    "i = 4\n",
    "j = 2\n",
    "x_list1 = [i]\n",
    "x_list2 = [j]\n",
    "i_list = [0]\n",
    "\n",
    "n = 10_000\n",
    "for step in range(1, n+1):\n",
    "\n",
    "    # Sample p(j|i)\n",
    "    j = sample_g(i)\n",
    "\n",
    "    # Sample p(i|j)\n",
    "    i = sample_g(j)\n",
    "\n",
    "    x_list1.append(i)\n",
    "    x_list2.append(j)\n",
    "    i_list.append(step)\n",
    "\n",
    "\n",
    "# Plotting the distribution\n",
    "sns.jointplot(x=x_list1, y=x_list2, kind=\"hex\")\n",
    "# Testing the distribution fit \n",
    "x_arr = np.array(x_list1)\n",
    "y_arr = np.array(x_list2)\n",
    "test_two_chi2(x_arr, y_arr, g)\n",
    "# Again it seems to not follow the prober distribution :/"
   ]
  }
 ],
 "metadata": {
  "kernelspec": {
   "display_name": ".venv",
   "language": "python",
   "name": "python3"
  },
  "language_info": {
   "codemirror_mode": {
    "name": "ipython",
    "version": 3
   },
   "file_extension": ".py",
   "mimetype": "text/x-python",
   "name": "python",
   "nbconvert_exporter": "python",
   "pygments_lexer": "ipython3",
   "version": "3.10.12"
  }
 },
 "nbformat": 4,
 "nbformat_minor": 2
}
