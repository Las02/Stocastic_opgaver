{
 "cells": [
  {
   "cell_type": "markdown",
   "metadata": {},
   "source": [
    "## Exercise 4\n",
    "### 1)"
   ]
  },
  {
   "cell_type": "code",
   "execution_count": 3,
   "metadata": {},
   "outputs": [],
   "source": [
    "import pandas as pd\n",
    "import numpy as np\n",
    "from icecream import ic\n",
    "\n",
    "# Running it 10 times\n",
    "res = []\n",
    "for _ in range(100):\n",
    "\n",
    "    m = 10\n",
    "    mean_service_time = 8\n",
    "    mean_time_btw_customers = 1\n",
    "\n",
    "    cum_cust = 0\n",
    "    cum_time = 0\n",
    "    blocked = []\n",
    "    n_customer = 10_000\n",
    "    service = []\n",
    "\n",
    "\n",
    "    def update_service_time(service, time):\n",
    "        # update the time\n",
    "        for i in range(len(service)):\n",
    "            service[i] = service[i] - time\n",
    "\n",
    "    def remove_serviced(service, t):\n",
    "        # remove the ones which are below a threshold\n",
    "        new_service = []\n",
    "        for i in range(len(service)):\n",
    "            if service[i] > t:\n",
    "                new_service.append(service[i])\n",
    "        return new_service\n",
    "\n",
    "\n",
    "    for id in range(n_customer):\n",
    "        time = np.random.exponential(mean_time_btw_customers) \n",
    "\n",
    "        # remove the time drawn from the customers \"in service\" time\n",
    "        update_service_time(service, time)\n",
    "        service = remove_serviced(service, 0) # remove the customers with 0 or below time\n",
    "\n",
    "        cum_cust += 1\n",
    "        cum_time += time\n",
    "        if len(service) < m:\n",
    "            service_time = np.random.exponential(mean_service_time, 1)[0] \n",
    "            service.append(service_time)\n",
    "        else:\n",
    "            blocked.append(id)\n",
    "    res.append(len(blocked) / n_customer)"
   ]
  },
  {
   "cell_type": "code",
   "execution_count": 53,
   "metadata": {},
   "outputs": [
    {
     "name": "stderr",
     "output_type": "stream",
     "text": [
      "ic| mean + first*second: 0.11999999999851683\n",
      "ic| mean: 0.12000000000000002\n",
      "ic| mean + first*third: 0.12000000000148321\n"
     ]
    }
   ],
   "source": [
    "import math\n",
    "import scipy\n",
    "# The mean is:\n",
    "\n",
    "def var_mean(res):\n",
    "    mean = np.mean(np.array(res))\n",
    "    var = abs((1/(n_customer -1))  * sum([(x**2)- mean**2 for x in res]))\n",
    "    first = ((math.sqrt(var))  /  math.sqrt(n_customer))  \n",
    "    second = scipy.stats.t.ppf(0.025, df = (n_customer-1)) \n",
    "    third = scipy.stats.t.ppf(1-0.025, df = (n_customer-1)) \n",
    "    ic(mean + first*second)\n",
    "    ic(mean)\n",
    "    ic(mean + first*third)\n",
    "var_mean(res)"
   ]
  },
  {
   "cell_type": "code",
   "execution_count": null,
   "metadata": {},
   "outputs": [],
   "source": []
  },
  {
   "cell_type": "code",
   "execution_count": 5,
   "metadata": {},
   "outputs": [
    {
     "data": {
      "text/plain": [
       "0.12166106425295149"
      ]
     },
     "execution_count": 5,
     "metadata": {},
     "output_type": "execute_result"
    }
   ],
   "source": [
    "# Calculating theoretical\n",
    "import math\n",
    "\n",
    "l = mean_time_btw_customers\n",
    "s = mean_service_time\n",
    "A =  l * s\n",
    "\n",
    "upp = ((A**m)/math.factorial(m)) \n",
    "lowr = [(A**i)/math.factorial(i) for i in range(m + 1)]\n",
    "lowr = sum(lowr)\n",
    "upp/lowr"
   ]
  },
  {
   "cell_type": "markdown",
   "metadata": {},
   "source": [
    "We have nearly the same values between the theroretical and our simulated "
   ]
  },
  {
   "cell_type": "markdown",
   "metadata": {},
   "source": [
    "### 2)"
   ]
  },
  {
   "cell_type": "code",
   "execution_count": 138,
   "metadata": {},
   "outputs": [
    {
     "name": "stderr",
     "output_type": "stream",
     "text": [
      "ic| mean + first*second: 0.12218807207598449\n",
      "ic| mean: 0.12219090909090907\n",
      "ic| mean + first*third: 0.12219374610583365\n"
     ]
    }
   ],
   "source": [
    "import pandas as pd\n",
    "import numpy as np\n",
    "from icecream import ic\n",
    "from functools import partial\n",
    "# The same algorithm as above \n",
    "def algo(func1):\n",
    "    m = 10\n",
    "    mean_service_time = 8\n",
    "    mean_time_btw_customers = 1\n",
    "\n",
    "    cum_cust = 0\n",
    "    cum_time = 0\n",
    "    blocked = []\n",
    "    n_customer = 10_000\n",
    "    service = []\n",
    "\n",
    "\n",
    "    for id in range(n_customer):\n",
    "        time = func1()\n",
    "\n",
    "        # remove the time drawn from the customers \"in service\" time\n",
    "        update_service_time(service, time)\n",
    "        service = remove_serviced(service, 0) # remove the customers with 0 or below time\n",
    "\n",
    "        cum_cust += 1\n",
    "        cum_time += time\n",
    "        if len(service) < m:\n",
    "            service_time = np.random.exponential(mean_service_time, 1)[0] \n",
    "            service.append(service_time)\n",
    "        else:\n",
    "            blocked.append(id)\n",
    "\n",
    "    return (len(blocked) / n_customer)\n",
    "\n",
    "res = []\n",
    "for _ in range(11):\n",
    "    out = algo(partial(scipy.stats.erlang.rvs, a=1))\n",
    "    res.append(out)\n",
    "var_mean(res)"
   ]
  },
  {
   "cell_type": "code",
   "execution_count": 143,
   "metadata": {},
   "outputs": [
    {
     "name": "stderr",
     "output_type": "stream",
     "text": [
      "ic| mean + first*second: 0.13935841370011234\n",
      "ic| mean: 0.13936363636363636\n",
      "ic| mean + first*third: 0.13936885902716037\n"
     ]
    }
   ],
   "source": [
    "\n",
    "\n",
    "def hyper_exp():\n",
    "    p = 0.8\n",
    "    rand = np.random.uniform() \n",
    "    if rand  < p:\n",
    "        return np.random.exponential(1/0.8333, 1)[0] \n",
    "    else: \n",
    "        return np.random.exponential(1/5.0, 1)[0] \n",
    "\n",
    "res = []\n",
    "for _ in range(11):\n",
    "    out = algo(hyper_exp)\n",
    "    res.append(out)\n",
    "var_mean(res)"
   ]
  }
 ],
 "metadata": {
  "kernelspec": {
   "display_name": ".venv",
   "language": "python",
   "name": "python3"
  },
  "language_info": {
   "codemirror_mode": {
    "name": "ipython",
    "version": 3
   },
   "file_extension": ".py",
   "mimetype": "text/x-python",
   "name": "python",
   "nbconvert_exporter": "python",
   "pygments_lexer": "ipython3",
   "version": "3.10.12"
  }
 },
 "nbformat": 4,
 "nbformat_minor": 2
}
